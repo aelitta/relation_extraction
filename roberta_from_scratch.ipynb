{
 "cells": [
  {
   "cell_type": "code",
   "execution_count": null,
   "id": "7eeeb84b-1f5b-47be-80ef-7b46a8cfb87d",
   "metadata": {},
   "outputs": [],
   "source": []
  },
  {
   "cell_type": "code",
   "execution_count": 3,
   "id": "59992225-01ef-49a9-b599-9725a85efe6c",
   "metadata": {},
   "outputs": [],
   "source": [
    "# import random\n",
    "\n",
    "# import youtokentome as yttm\n",
    "\n",
    "# train_data_path = \"train_data.txt\"\n",
    "# model_path = \"example.model\"\n",
    "\n",
    "# # Generating random file with training data\n",
    "# # 10000 lines with 100 characters in each line\n",
    "# n_lines = 10000\n",
    "# n_characters = 100\n",
    "# with open(train_data_path, \"w\") as fout:\n",
    "#     for _ in range(n_lines):\n",
    "#         print(\"\".join([random.choice(\"abcd \") for _ in range(n_characters)]), file=fout)\n",
    "\n",
    "# # Generating random text\n",
    "# test_text = \"\".join([random.choice(\"abcde \") for _ in range(100)])\n",
    "\n",
    "# # Training model\n",
    "# yttm.BPE.train(data=train_data_path, vocab_size=5000, model=model_path)\n",
    "\n",
    "# # Loading model\n",
    "# bpe = yttm.BPE(model=model_path)\n",
    "\n",
    "# # Two types of tokenization\n",
    "# print(bpe.encode([test_text], output_type=yttm.OutputType.ID, dropout_prob = 0.7))\n",
    "# print(bpe.encode([test_text], output_type=yttm.OutputType.SUBWORD))"
   ]
  },
  {
   "cell_type": "code",
   "execution_count": 2,
   "id": "451ebe8f-fa69-4cdc-aebc-96a926541a42",
   "metadata": {},
   "outputs": [],
   "source": [
    "from transformers import RobertaTokenizer\n",
    "import pandas as pd\n",
    "import numpy as np\n",
    "import json, re\n",
    "from tqdm import tqdm_notebook\n",
    "from uuid import uuid4\n",
    "\n",
    "import json \n",
    "\n",
    "import spacy\n",
    "\n",
    "## Torch Modules\n",
    "import torch\n",
    "import torch.optim as optim\n",
    "import torch.nn as nn\n",
    "import torch.nn.functional as F\n",
    "from torch.autograd import Variable\n",
    "from torch.utils.data import Dataset, DataLoader"
   ]
  },
  {
   "cell_type": "code",
   "execution_count": 5,
   "id": "e58a5fe6-bb9b-4c83-b8e4-0b8b8f3ddae4",
   "metadata": {},
   "outputs": [],
   "source": [
    "# from pathlib import Path\n",
    "\n",
    "# from tokenizers import ByteLevelBPETokenizer\n",
    "\n",
    "# paths = [str(x) for x in Path(\"./\").glob(\"**/*.txt\")]\n",
    "\n",
    "# # Initialize a tokenizer\n",
    "# tokenizer = ByteLevelBPETokenizer()\n",
    "\n",
    "# # Customize training\n",
    "# tokenizer.train(files=paths, vocab_size=52_000, min_frequency=2, special_tokens=[\n",
    "#     \"<s>\",\n",
    "#     \"<pad>\",\n",
    "#     \"</s>\",\n",
    "#     \"<unk>\",\n",
    "#     \"<mask>\",\n",
    "#     \"[s1]\",\n",
    "#     \"[s2]\",\n",
    "#     \"[e1]\",\n",
    "#     \"[e2]\"\n",
    "# ])\n",
    "\n",
    "# # Save files to disk\n",
    "# tokenizer.save_model(\".\", \"pah\")\n",
    "# tokenizer.save(\"pah/tokenizer/tokenizer_file\")"
   ]
  },
  {
   "cell_type": "code",
   "execution_count": 6,
   "id": "b01e58b3-513a-4e15-b25b-714def553948",
   "metadata": {},
   "outputs": [],
   "source": [
    "# from tokenizers.implementations import ByteLevelBPETokenizer\n",
    "# from tokenizers.processors import BertProcessing\n",
    "\n",
    "\n",
    "# tokenizer = ByteLevelBPETokenizer(\n",
    "#     \"pah/tokenizer/vocab.json\",\n",
    "#     \"pah/tokenizer/merges.txt\",\n",
    "# )\n",
    "# tokenizer._tokenizer.post_processor = BertProcessing(\n",
    "#     (\"</s>\", tokenizer.token_to_id(\"</s>\")),\n",
    "#     (\"<s>\", tokenizer.token_to_id(\"<s>\")),\n",
    "# )\n",
    "# tokenizer.enable_truncation(max_length=512)\n",
    "\n",
    "# print(\n",
    "#     tokenizer.encode(\"6-minutes walk distance\")\n",
    "# )\n",
    "\n",
    "# tokenizer.save(\"pah/tokenizer/tokenizer_file\")"
   ]
  },
  {
   "cell_type": "code",
   "execution_count": 7,
   "id": "29ebee3c-dfd8-4f78-abf5-5a2031f1b8ab",
   "metadata": {},
   "outputs": [],
   "source": [
    "# tokenizer.tokenize()"
   ]
  },
  {
   "cell_type": "code",
   "execution_count": 3,
   "id": "764d8519-a0f1-4d35-b575-21e18100edf2",
   "metadata": {},
   "outputs": [],
   "source": [
    "from transformers import RobertaConfig\n",
    "\n",
    "config = RobertaConfig(\n",
    "    vocab_size=52000,\n",
    "    max_position_embeddings=600,\n",
    "    num_attention_heads=12,\n",
    "    num_hidden_layers=6,\n",
    "    type_vocab_size=1,\n",
    ")"
   ]
  },
  {
   "cell_type": "code",
   "execution_count": 4,
   "id": "ba7f4418-f15a-461e-a014-a8916e2253e7",
   "metadata": {},
   "outputs": [],
   "source": [
    "from transformers import RobertaTokenizerFast,PreTrainedTokenizerFast\n",
    "\n",
    "tokenizer = RobertaTokenizerFast.from_pretrained(\"pah/tokenizer\", max_len=768)\n",
    "# tokenizer = PreTrainedTokenizerFast(tokenizer_file=\"pah/tokenizer/tokenizer_file\")\n"
   ]
  },
  {
   "cell_type": "code",
   "execution_count": 5,
   "id": "fb18c923-1ae9-416b-a50e-3955fc78d389",
   "metadata": {},
   "outputs": [],
   "source": [
    "from transformers import RobertaForSequenceClassification\n",
    "\n",
    "model = RobertaForSequenceClassification(config=config)"
   ]
  },
  {
   "cell_type": "code",
   "execution_count": 11,
   "id": "467f05f4-f8bd-4c15-b9e5-e3de48b19464",
   "metadata": {},
   "outputs": [
    {
     "data": {
      "text/plain": [
       "83518466"
      ]
     },
     "execution_count": 11,
     "metadata": {},
     "output_type": "execute_result"
    }
   ],
   "source": [
    "model.num_parameters()\n"
   ]
  },
  {
   "cell_type": "code",
   "execution_count": 12,
   "id": "ef56ac63-7773-4ba4-9e97-68980181784e",
   "metadata": {},
   "outputs": [
    {
     "data": {
      "text/plain": [
       "True"
      ]
     },
     "execution_count": 12,
     "metadata": {},
     "output_type": "execute_result"
    }
   ],
   "source": [
    "import torch\n",
    "torch.cuda.is_available()"
   ]
  },
  {
   "cell_type": "code",
   "execution_count": 13,
   "id": "7fe107c7-0843-44b3-a95a-07f5dc9e272f",
   "metadata": {},
   "outputs": [],
   "source": [
    "import datasets"
   ]
  },
  {
   "cell_type": "code",
   "execution_count": 7,
   "id": "2b02cd07-a020-4ef1-90ee-3cb0a316efce",
   "metadata": {},
   "outputs": [],
   "source": [
    "train_data = pd.read_csv('pah/data/train_fs.tsv', delimiter = '\\t', header = None)\n",
    "test_data = pd.read_csv('pah/data/dev_fs.tsv', delimiter = '\\t', header = None)"
   ]
  },
  {
   "cell_type": "code",
   "execution_count": 8,
   "id": "08640f9f-2956-4ebc-af8d-b72fd614d0f6",
   "metadata": {},
   "outputs": [
    {
     "data": {
      "text/html": [
       "<div>\n",
       "<style scoped>\n",
       "    .dataframe tbody tr th:only-of-type {\n",
       "        vertical-align: middle;\n",
       "    }\n",
       "\n",
       "    .dataframe tbody tr th {\n",
       "        vertical-align: top;\n",
       "    }\n",
       "\n",
       "    .dataframe thead th {\n",
       "        text-align: right;\n",
       "    }\n",
       "</style>\n",
       "<table border=\"1\" class=\"dataframe\">\n",
       "  <thead>\n",
       "    <tr style=\"text-align: right;\">\n",
       "      <th></th>\n",
       "      <th>0</th>\n",
       "      <th>1</th>\n",
       "      <th>2</th>\n",
       "      <th>3</th>\n",
       "      <th>4</th>\n",
       "      <th>5</th>\n",
       "      <th>6</th>\n",
       "    </tr>\n",
       "  </thead>\n",
       "  <tbody>\n",
       "    <tr>\n",
       "      <th>0</th>\n",
       "      <td>Rel</td>\n",
       "      <td>Methods In this double-blind , placebo-control...</td>\n",
       "      <td>dosage</td>\n",
       "      <td>drug</td>\n",
       "      <td>T_133115</td>\n",
       "      <td>T_13350</td>\n",
       "      <td>F_133</td>\n",
       "    </tr>\n",
       "    <tr>\n",
       "      <th>1</th>\n",
       "      <td>NotRel</td>\n",
       "      <td>In a preliminary study , the orally administer...</td>\n",
       "      <td>drug</td>\n",
       "      <td>reason</td>\n",
       "      <td>T_1331</td>\n",
       "      <td>T_133113</td>\n",
       "      <td>F_133</td>\n",
       "    </tr>\n",
       "    <tr>\n",
       "      <th>2</th>\n",
       "      <td>Rel</td>\n",
       "      <td>Methods In this double-blind , placebo-control...</td>\n",
       "      <td>drug</td>\n",
       "      <td>duration</td>\n",
       "      <td>T_1335</td>\n",
       "      <td>T_1331161</td>\n",
       "      <td>F_133</td>\n",
       "    </tr>\n",
       "    <tr>\n",
       "      <th>3</th>\n",
       "      <td>Rel</td>\n",
       "      <td>Methods In this double-blind , placebo-control...</td>\n",
       "      <td>drug</td>\n",
       "      <td>dosage</td>\n",
       "      <td>T_1336</td>\n",
       "      <td>T_1331172</td>\n",
       "      <td>F_133</td>\n",
       "    </tr>\n",
       "    <tr>\n",
       "      <th>4</th>\n",
       "      <td>Rel</td>\n",
       "      <td>Methods In this double-blind , placebo-control...</td>\n",
       "      <td>drug</td>\n",
       "      <td>duration</td>\n",
       "      <td>T_1336</td>\n",
       "      <td>T_1331183</td>\n",
       "      <td>F_133</td>\n",
       "    </tr>\n",
       "  </tbody>\n",
       "</table>\n",
       "</div>"
      ],
      "text/plain": [
       "        0                                                  1       2  \\\n",
       "0     Rel  Methods In this double-blind , placebo-control...  dosage   \n",
       "1  NotRel  In a preliminary study , the orally administer...    drug   \n",
       "2     Rel  Methods In this double-blind , placebo-control...    drug   \n",
       "3     Rel  Methods In this double-blind , placebo-control...    drug   \n",
       "4     Rel  Methods In this double-blind , placebo-control...    drug   \n",
       "\n",
       "          3         4          5      6  \n",
       "0      drug  T_133115    T_13350  F_133  \n",
       "1    reason    T_1331   T_133113  F_133  \n",
       "2  duration    T_1335  T_1331161  F_133  \n",
       "3    dosage    T_1336  T_1331172  F_133  \n",
       "4  duration    T_1336  T_1331183  F_133  "
      ]
     },
     "execution_count": 8,
     "metadata": {},
     "output_type": "execute_result"
    }
   ],
   "source": [
    "train_data.head()"
   ]
  },
  {
   "cell_type": "code",
   "execution_count": 9,
   "id": "9fcd1ec0-762d-4c49-b814-9461c51e41dc",
   "metadata": {},
   "outputs": [],
   "source": [
    "train_data = train_data[[0,1]]\n",
    "train_data.columns = ['label','utterance']\n",
    "\n",
    "test_data = test_data[[0,1]]\n",
    "test_data.columns = ['label','utterance']"
   ]
  },
  {
   "cell_type": "code",
   "execution_count": 10,
   "id": "ffe59422-26f7-47ee-ba1d-e3190f904074",
   "metadata": {},
   "outputs": [],
   "source": [
    "def prepare_features(seq_1, max_seq_length = 300, \n",
    "             zero_pad = True, include_CLS_token = True, include_SEP_token = True):\n",
    "    ## Tokenzine Input\n",
    "    tokens_a = tokenizer.tokenize(seq_1)\n",
    "\n",
    "    ## Truncate\n",
    "    if len(tokens_a) > max_seq_length - 2:\n",
    "        tokens_a = tokens_a[0:(max_seq_length - 2)]\n",
    "    ## Initialize Tokens\n",
    "    tokens = []\n",
    "    if include_CLS_token:\n",
    "        tokens.append(tokenizer.cls_token)\n",
    "    ## Add Tokens and separators\n",
    "    for token in tokens_a:\n",
    "        tokens.append(token)\n",
    "\n",
    "    if include_SEP_token:\n",
    "        tokens.append(tokenizer.sep_token)\n",
    "\n",
    "    input_ids = tokenizer.convert_tokens_to_ids(tokens)\n",
    "    # input_ids = input_ids.squeeze(0)\n",
    "    ## Input Mask \n",
    "    input_mask = [1] * len(input_ids)\n",
    "    ## Zero-pad sequence lenght\n",
    "    if zero_pad:\n",
    "        while len(input_ids) < max_seq_length:\n",
    "            input_ids.append(0)\n",
    "            input_mask.append(0)\n",
    "    return torch.tensor(input_ids).unsqueeze(0), input_mask"
   ]
  },
  {
   "cell_type": "code",
   "execution_count": 11,
   "id": "6d400279-f507-4239-af90-0749a325ccaf",
   "metadata": {},
   "outputs": [],
   "source": [
    "class Relations(Dataset):\n",
    "    def __init__(self, dataframe):\n",
    "        self.len = len(dataframe)\n",
    "        self.data = dataframe\n",
    "        \n",
    "    def __getitem__(self, index):\n",
    "        utterance = self.data.utterance[index]\n",
    "        label = self.data.label[index]\n",
    "        X, _  = prepare_features(utterance)\n",
    "        y = label_to_ix[self.data.label[index]]\n",
    "        return X,y #{k: v[index] for k, v in zip(X,y)}#\n",
    "    \n",
    "    def __len__(self):\n",
    "        return self.len"
   ]
  },
  {
   "cell_type": "code",
   "execution_count": 12,
   "id": "1600169e-cfdb-48fa-9d12-ed6749b72581",
   "metadata": {},
   "outputs": [],
   "source": [
    "# tokenizer = RobertaTokenizer.from_pretrained('roberta-base')\n",
    "model = RobertaForSequenceClassification(config)"
   ]
  },
  {
   "cell_type": "code",
   "execution_count": 59,
   "id": "a8893268-6be0-43f9-8566-a03c8d84cfb6",
   "metadata": {},
   "outputs": [],
   "source": [
    "training_set = Relations(train_data)\n",
    "testing_set = Relations(test_data)"
   ]
  },
  {
   "cell_type": "code",
   "execution_count": 14,
   "id": "315fac44-c973-41b6-a13d-0d35157a701e",
   "metadata": {},
   "outputs": [],
   "source": [
    "device = torch.device(\"cuda\" if torch.cuda.is_available() else \"cpu\")\n",
    "model = model.cuda()"
   ]
  },
  {
   "cell_type": "code",
   "execution_count": 53,
   "id": "b66eba2f-b30c-43af-971c-cb682fdf03d1",
   "metadata": {},
   "outputs": [],
   "source": [
    "params = {'batch_size': 1,\n",
    "          'shuffle': True,\n",
    "          'drop_last': False,\n",
    "          'num_workers': 1}"
   ]
  },
  {
   "cell_type": "code",
   "execution_count": 60,
   "id": "8ce8a254-48fe-490b-b64a-923aeaed4237",
   "metadata": {},
   "outputs": [],
   "source": [
    "training_loader = DataLoader(training_set, **params)\n",
    "testing_loader = DataLoader(testing_set, **params)"
   ]
  },
  {
   "cell_type": "code",
   "execution_count": 17,
   "id": "6b6ec556-8501-459d-b19c-26b757807609",
   "metadata": {},
   "outputs": [],
   "source": [
    "loss_function = nn.CrossEntropyLoss()\n",
    "learning_rate = 1e-05\n",
    "optimizer = optim.Adam(params =  model.parameters(), lr=learning_rate)"
   ]
  },
  {
   "cell_type": "code",
   "execution_count": 18,
   "id": "47602e95-996f-4524-a663-93f8acdc85c6",
   "metadata": {},
   "outputs": [
    {
     "data": {
      "text/plain": [
       "{'Rel': 0, 'NotRel': 1}"
      ]
     },
     "execution_count": 18,
     "metadata": {},
     "output_type": "execute_result"
    }
   ],
   "source": [
    "label_to_ix = {}\n",
    "for label in train_data.label:\n",
    "    for word in label.split():\n",
    "        if word not in label_to_ix:\n",
    "            label_to_ix[word]=len(label_to_ix)\n",
    "label_to_ix"
   ]
  },
  {
   "cell_type": "code",
   "execution_count": 27,
   "id": "e212fca5-cbff-4e35-b3ec-6d5871380a2e",
   "metadata": {},
   "outputs": [
    {
     "data": {
      "text/plain": [
       "RobertaConfig {\n",
       "  \"architectures\": [\n",
       "    \"RobertaForMaskedLM\"\n",
       "  ],\n",
       "  \"attention_probs_dropout_prob\": 0.1,\n",
       "  \"bos_token_id\": 0,\n",
       "  \"classifier_dropout\": null,\n",
       "  \"eos_token_id\": 2,\n",
       "  \"hidden_act\": \"gelu\",\n",
       "  \"hidden_dropout_prob\": 0.1,\n",
       "  \"hidden_size\": 768,\n",
       "  \"initializer_range\": 0.02,\n",
       "  \"intermediate_size\": 3072,\n",
       "  \"layer_norm_eps\": 1e-05,\n",
       "  \"max_position_embeddings\": 514,\n",
       "  \"model_type\": \"roberta\",\n",
       "  \"num_attention_heads\": 12,\n",
       "  \"num_hidden_layers\": 12,\n",
       "  \"pad_token_id\": 1,\n",
       "  \"position_embedding_type\": \"absolute\",\n",
       "  \"transformers_version\": \"4.18.0\",\n",
       "  \"type_vocab_size\": 1,\n",
       "  \"use_cache\": true,\n",
       "  \"vocab_size\": 50265\n",
       "}"
      ]
     },
     "execution_count": 27,
     "metadata": {},
     "output_type": "execute_result"
    }
   ],
   "source": [
    "config = RobertaConfig.from_pretrained('roberta-base')\n",
    "config.num_labels = len(list(label_to_ix.values()))\n",
    "config"
   ]
  },
  {
   "cell_type": "code",
   "execution_count": 19,
   "id": "5ac3feb1-80ea-4b8d-933f-24d8a8041104",
   "metadata": {},
   "outputs": [],
   "source": [
    "for param in list(model.parameters())[-90:]: # total  trainable 199 Params: 79 is 40%\n",
    "    param.requires_grad = False"
   ]
  },
  {
   "cell_type": "code",
   "execution_count": 20,
   "id": "e9b7c621-dd7a-400c-b844-32af21c76b38",
   "metadata": {},
   "outputs": [
    {
     "data": {
      "text/plain": [
       "105"
      ]
     },
     "execution_count": 20,
     "metadata": {},
     "output_type": "execute_result"
    }
   ],
   "source": [
    "len(list(model.parameters()))"
   ]
  },
  {
   "cell_type": "code",
   "execution_count": 21,
   "id": "9de48233-1c7d-48b8-a85e-bc5b36c22ec4",
   "metadata": {},
   "outputs": [
    {
     "name": "stdout",
     "output_type": "stream",
     "text": [
      "torch.Size([1, 300]) torch.Size([1, 2])\n"
     ]
    }
   ],
   "source": [
    "## Test Forward Pass\n",
    "inp = training_set.__getitem__(0)[0].cuda()\n",
    "output = model(inp)[0]\n",
    "print(inp.shape, output.shape)"
   ]
  },
  {
   "cell_type": "code",
   "execution_count": 22,
   "id": "39de2936-ac4a-43af-8ae4-0ea4e73adb50",
   "metadata": {},
   "outputs": [
    {
     "data": {
      "text/plain": [
       "torch.Size([1, 300])"
      ]
     },
     "execution_count": 22,
     "metadata": {},
     "output_type": "execute_result"
    }
   ],
   "source": [
    "inp.size()"
   ]
  },
  {
   "cell_type": "code",
   "execution_count": 23,
   "id": "25cd170f-8381-4abd-8dfd-5ee30f899d42",
   "metadata": {},
   "outputs": [
    {
     "data": {
      "text/plain": [
       "torch.Size([1, 300])"
      ]
     },
     "execution_count": 23,
     "metadata": {},
     "output_type": "execute_result"
    }
   ],
   "source": [
    "training_set.__getitem__(28)[0].shape"
   ]
  },
  {
   "cell_type": "code",
   "execution_count": 24,
   "id": "7964beb5-9394-4e4f-b962-314b06b38892",
   "metadata": {},
   "outputs": [
    {
     "data": {
      "text/plain": [
       "SequenceClassifierOutput(loss=None, logits=tensor([[0.1558, 0.5354]], device='cuda:0', grad_fn=<AddmmBackward0>), hidden_states=None, attentions=None)"
      ]
     },
     "execution_count": 24,
     "metadata": {},
     "output_type": "execute_result"
    }
   ],
   "source": [
    "model(training_set.__getitem__(29)[0].cuda())"
   ]
  },
  {
   "cell_type": "code",
   "execution_count": 25,
   "id": "8ddfde89-0b3c-400c-ad37-b02413418ad2",
   "metadata": {},
   "outputs": [
    {
     "data": {
      "text/plain": [
       "391"
      ]
     },
     "execution_count": 25,
     "metadata": {},
     "output_type": "execute_result"
    }
   ],
   "source": [
    "len(train_data.loc[2,'utterance'])"
   ]
  },
  {
   "cell_type": "code",
   "execution_count": 63,
   "id": "f2f68806-0a79-45e9-8840-53cc334e8a68",
   "metadata": {},
   "outputs": [
    {
     "name": "stderr",
     "output_type": "stream",
     "text": [
      "/opt/conda/lib/python3.7/site-packages/ipykernel_launcher.py:4: TqdmDeprecationWarning: This function will be removed in tqdm==5.0.0\n",
      "Please use `tqdm.notebook.tqdm` instead of `tqdm.tqdm_notebook`\n",
      "  after removing the cwd from sys.path.\n"
     ]
    },
    {
     "data": {
      "application/vnd.jupyter.widget-view+json": {
       "model_id": "6c5f42c676be4b7d88cc3706f284eb66",
       "version_major": 2,
       "version_minor": 0
      },
      "text/plain": [
       "  0%|          | 0/10 [00:00<?, ?it/s]"
      ]
     },
     "metadata": {},
     "output_type": "display_data"
    },
    {
     "name": "stdout",
     "output_type": "stream",
     "text": [
      "EPOCH -- 0\n",
      "Iteration: 0. Loss: 0.9723549485206604. Accuracy: 65.64327485380117%\n",
      "Iteration: 1000. Loss: 0.30841875076293945. Accuracy: 65.64327485380117%\n",
      "Iteration: 2000. Loss: 0.442291259765625. Accuracy: 65.64327485380117%\n",
      "Iteration: 3000. Loss: 0.9026875495910645. Accuracy: 65.64327485380117%\n",
      "Iteration: 4000. Loss: 0.3848063349723816. Accuracy: 65.64327485380117%\n",
      "Iteration: 5000. Loss: 1.2698019742965698. Accuracy: 65.64327485380117%\n",
      "Iteration: 6000. Loss: 1.0124282836914062. Accuracy: 65.64327485380117%\n",
      "EPOCH -- 1\n",
      "Iteration: 0. Loss: 0.34892404079437256. Accuracy: 65.64327485380117%\n",
      "Iteration: 1000. Loss: 0.3699212670326233. Accuracy: 65.64327485380117%\n",
      "Iteration: 2000. Loss: 0.3944622576236725. Accuracy: 65.64327485380117%\n",
      "Iteration: 3000. Loss: 0.33682170510292053. Accuracy: 65.64327485380117%\n",
      "Iteration: 4000. Loss: 0.25837451219558716. Accuracy: 65.64327485380117%\n",
      "Iteration: 5000. Loss: 0.3808467984199524. Accuracy: 65.64327485380117%\n",
      "Iteration: 6000. Loss: 1.3068909645080566. Accuracy: 65.5701754385965%\n",
      "EPOCH -- 2\n",
      "Iteration: 0. Loss: 0.37307682633399963. Accuracy: 65.64327485380117%\n",
      "Iteration: 1000. Loss: 1.1327056884765625. Accuracy: 65.64327485380117%\n",
      "Iteration: 2000. Loss: 0.3744821846485138. Accuracy: 65.64327485380117%\n",
      "Iteration: 3000. Loss: 0.22142794728279114. Accuracy: 65.64327485380117%\n",
      "Iteration: 4000. Loss: 1.0137473344802856. Accuracy: 65.64327485380117%\n",
      "Iteration: 5000. Loss: 0.28677037358283997. Accuracy: 65.5701754385965%\n",
      "Iteration: 6000. Loss: 0.25996699929237366. Accuracy: 65.64327485380117%\n",
      "EPOCH -- 3\n",
      "Iteration: 0. Loss: 0.39429888129234314. Accuracy: 65.64327485380117%\n",
      "Iteration: 1000. Loss: 0.40350958704948425. Accuracy: 65.64327485380117%\n",
      "Iteration: 2000. Loss: 1.334691047668457. Accuracy: 65.64327485380117%\n",
      "Iteration: 3000. Loss: 0.9949190020561218. Accuracy: 65.64327485380117%\n",
      "Iteration: 4000. Loss: 0.4625576138496399. Accuracy: 65.71637426900585%\n",
      "Iteration: 5000. Loss: 0.5297006368637085. Accuracy: 65.64327485380117%\n",
      "Iteration: 6000. Loss: 0.8199445605278015. Accuracy: 65.64327485380117%\n",
      "EPOCH -- 4\n",
      "Iteration: 0. Loss: 1.2683980464935303. Accuracy: 65.64327485380117%\n",
      "Iteration: 1000. Loss: 0.34067267179489136. Accuracy: 65.64327485380117%\n",
      "Iteration: 2000. Loss: 1.056560754776001. Accuracy: 65.71637426900585%\n",
      "Iteration: 3000. Loss: 1.4846773147583008. Accuracy: 65.64327485380117%\n",
      "Iteration: 4000. Loss: 0.276027113199234. Accuracy: 65.64327485380117%\n",
      "Iteration: 5000. Loss: 0.8638537526130676. Accuracy: 65.49707602339181%\n",
      "Iteration: 6000. Loss: 1.0339362621307373. Accuracy: 65.64327485380117%\n",
      "EPOCH -- 5\n",
      "Iteration: 0. Loss: 0.33714577555656433. Accuracy: 65.64327485380117%\n",
      "Iteration: 1000. Loss: 0.32583025097846985. Accuracy: 65.64327485380117%\n",
      "Iteration: 2000. Loss: 1.1794732809066772. Accuracy: 65.64327485380117%\n",
      "Iteration: 3000. Loss: 0.38084110617637634. Accuracy: 65.64327485380117%\n",
      "Iteration: 4000. Loss: 0.3883931338787079. Accuracy: 65.64327485380117%\n",
      "Iteration: 5000. Loss: 0.31281647086143494. Accuracy: 65.64327485380117%\n",
      "Iteration: 6000. Loss: 0.4143991470336914. Accuracy: 65.64327485380117%\n",
      "EPOCH -- 6\n",
      "Iteration: 0. Loss: 0.3338559865951538. Accuracy: 65.64327485380117%\n",
      "Iteration: 1000. Loss: 0.2958894968032837. Accuracy: 65.64327485380117%\n",
      "Iteration: 2000. Loss: 0.4051454961299896. Accuracy: 65.64327485380117%\n",
      "Iteration: 3000. Loss: 0.4832654893398285. Accuracy: 65.64327485380117%\n",
      "Iteration: 4000. Loss: 1.3981776237487793. Accuracy: 65.64327485380117%\n",
      "Iteration: 5000. Loss: 1.2535099983215332. Accuracy: 65.64327485380117%\n",
      "Iteration: 6000. Loss: 0.35290753841400146. Accuracy: 65.64327485380117%\n",
      "EPOCH -- 7\n",
      "Iteration: 0. Loss: 1.3688485622406006. Accuracy: 65.71637426900585%\n",
      "Iteration: 1000. Loss: 0.4379936754703522. Accuracy: 65.64327485380117%\n",
      "Iteration: 2000. Loss: 0.37508293986320496. Accuracy: 65.64327485380117%\n",
      "Iteration: 3000. Loss: 1.5635210275650024. Accuracy: 65.8625730994152%\n",
      "Iteration: 4000. Loss: 0.34778153896331787. Accuracy: 65.64327485380117%\n",
      "Iteration: 5000. Loss: 0.4090065062046051. Accuracy: 65.64327485380117%\n",
      "Iteration: 6000. Loss: 0.25578537583351135. Accuracy: 65.64327485380117%\n",
      "EPOCH -- 8\n",
      "Iteration: 0. Loss: 0.3126277029514313. Accuracy: 65.64327485380117%\n",
      "Iteration: 1000. Loss: 0.2173009067773819. Accuracy: 65.64327485380117%\n",
      "Iteration: 2000. Loss: 0.2913196086883545. Accuracy: 65.5701754385965%\n",
      "Iteration: 3000. Loss: 0.31694915890693665. Accuracy: 65.64327485380117%\n",
      "Iteration: 4000. Loss: 1.031554937362671. Accuracy: 65.64327485380117%\n",
      "Iteration: 5000. Loss: 1.0685478448867798. Accuracy: 65.64327485380117%\n",
      "Iteration: 6000. Loss: 1.1081609725952148. Accuracy: 65.64327485380117%\n",
      "EPOCH -- 9\n",
      "Iteration: 0. Loss: 1.3192145824432373. Accuracy: 65.64327485380117%\n",
      "Iteration: 1000. Loss: 0.9593462347984314. Accuracy: 65.64327485380117%\n",
      "Iteration: 2000. Loss: 1.5739657878875732. Accuracy: 65.64327485380117%\n",
      "Iteration: 3000. Loss: 0.348404198884964. Accuracy: 65.64327485380117%\n",
      "Iteration: 4000. Loss: 0.23728394508361816. Accuracy: 65.64327485380117%\n",
      "Iteration: 5000. Loss: 1.0658420324325562. Accuracy: 65.64327485380117%\n",
      "Iteration: 6000. Loss: 1.1833089590072632. Accuracy: 65.64327485380117%\n"
     ]
    }
   ],
   "source": [
    "max_epochs = 10\n",
    "model = model.train()\n",
    "latest_best_score = 0\n",
    "for epoch in tqdm_notebook(range(max_epochs)):\n",
    "    print(\"EPOCH -- {}\".format(epoch))\n",
    "    for i, (sent, label) in enumerate(training_loader):\n",
    "        optimizer.zero_grad()\n",
    "        sent = sent.squeeze(1)\n",
    "        if torch.cuda.is_available():\n",
    "          sent = sent.cuda()\n",
    "          label = label.cuda()\n",
    "        output = model.forward(sent)[0]\n",
    "        _, predicted = torch.max(output, 1)\n",
    "        \n",
    "        loss = loss_function(output, label)\n",
    "        loss.backward()\n",
    "        optimizer.step()\n",
    "        \n",
    "        if i%1000 == 0:\n",
    "            correct = 0\n",
    "            total = 0\n",
    "            for sent, label in testing_loader:\n",
    "                sent = sent.squeeze(0)\n",
    "                if torch.cuda.is_available():\n",
    "                  sent = sent.cuda()\n",
    "                  label = label.cuda()\n",
    "                output = model.forward(sent)[0]\n",
    "                _, predicted = torch.max(output.data, 1)\n",
    "                total += label.size(0)\n",
    "                correct += (predicted.cpu() == label.cpu()).sum()\n",
    "            accuracy = 100.00 * correct.numpy() / total\n",
    "            if accuracy>latest_best_score and accuracy>0.7:\n",
    "                latest_best_score = accuracy\n",
    "                torch.save(model.state_dict(), 'model_roberta_vars_'+str(epoch)+'_'+ str(uuid4())+'.pth')\n",
    "\n",
    "            print('Iteration: {}. Loss: {}. Accuracy: {}%'.format(i, loss.item(), accuracy))"
   ]
  },
  {
   "cell_type": "code",
   "execution_count": 27,
   "id": "dc6f4665-28c7-406d-a0a2-f58919bd83a5",
   "metadata": {},
   "outputs": [
    {
     "data": {
      "text/plain": [
       "983"
      ]
     },
     "execution_count": 27,
     "metadata": {},
     "output_type": "execute_result"
    }
   ],
   "source": [
    "train_jsons_aug = json.load(open('pah/data/relations_marked_train_aug.json'))\n",
    "len(train_jsons_aug)"
   ]
  },
  {
   "cell_type": "code",
   "execution_count": 28,
   "id": "abb21754-e9e0-4319-9a04-994ba4ff78eb",
   "metadata": {},
   "outputs": [
    {
     "data": {
      "text/plain": [
       "226"
      ]
     },
     "execution_count": 28,
     "metadata": {},
     "output_type": "execute_result"
    }
   ],
   "source": [
    "test_jsons_aug = json.load(open('pah/data/relations_marked_test_aug.json'))\n",
    "len(test_jsons_aug)"
   ]
  },
  {
   "cell_type": "code",
   "execution_count": 29,
   "id": "58284b7a-09e6-41d3-baf7-2316bcd559f9",
   "metadata": {},
   "outputs": [],
   "source": [
    "inf_jsons_aug = json.load(open('pah/data/articles_inf_aa_aug.json'))\n"
   ]
  },
  {
   "cell_type": "code",
   "execution_count": 30,
   "id": "aeb7f3a8-f08c-4340-82df-1a0d926d1cd8",
   "metadata": {},
   "outputs": [],
   "source": [
    "ent_dict = {}\n",
    "for i in range(len(train_jsons_aug)):\n",
    "    for ent in  train_jsons_aug[i]['entities']:\n",
    "        if ent['type'] not in ent_dict:\n",
    "            ent_dict[ent['type']] = len(ent_dict)\n",
    "            \n",
    "for i in range(len(test_jsons_aug)):\n",
    "    for ent in  test_jsons_aug[i]['entities']:\n",
    "        if ent['type'] not in ent_dict:\n",
    "            ent_dict[ent['type']] = len(ent_dict)\n",
    "            \n",
    "for i in range(len(inf_jsons_aug)):\n",
    "    for ent in  inf_jsons_aug[i]['entities']:\n",
    "        if ent['type'] not in ent_dict:\n",
    "            ent_dict[ent['type']] = len(ent_dict)\n",
    "ent_dict['O'] = len(ent_dict)"
   ]
  },
  {
   "cell_type": "code",
   "execution_count": 31,
   "id": "1e9dda52-1dec-44ce-977d-24658f62e589",
   "metadata": {},
   "outputs": [],
   "source": [
    "TAG_LIST = [\".\",\",\",\":\", \"-LRB-\",\"-RRB-\",\"``\",\"\\\"\\\"\",\"''\",\",\",\"$\",\"#\",\"AFX\",\"CC\",\"CD\",\"DT\",\"EX\",\"FW\",\"HYPH\",\"IN\",\"JJ\",\"JJR\",\"JJS\",\"LS\",\"MD\",\"NIL\",\"NN\",\"NNP\",\"NNPS\",\"NNS\",\"PDT\",\"POS\",\"PRP\",\"PRP$\",\"RB\",\"RBR\",\"RBS\",\"RP\",\"SP\",\"SYM\",\"TO\",\"UH\",\"VB\",\"VBD\",\"VBG\",\"VBN\",\"VBP\",\"VBZ\",\"WDT\",\"WP\",\"WP$\",\"WRB\",\"ADD\",\"NFP\",\"GW\",\"XX\",\"BES\",\"HVS\",\"_SP\"]\n",
    "POS_LIST = [\"ADJ\", \"ADP\", \"ADV\", \"AUX\", \"CONJ\", \"CCONJ\", \"DET\", \"INTJ\", \"NOUN\", \"NUM\", \"PART\", \"PRON\", \"PROPN\", \"PUNCT\", \"SCONJ\", \"SYM\", \"VERB\", \"X\", \"SPACE\"]\n",
    "DEP_LIST = [\"acl\", \"acomp\", \"advcl\", \"advmod\", \"agent\", \"amod\", \"appos\", \"attr\", \"aux\", \"auxpass\", \"case\", \"cc\", \"ccomp\", \"compound\", \"conj\", \"cop\", \"csubj\", \"csubjpass\", \"dative\", \"dep\", \"det\", \"dobj\", \"expl\", \"intj\", \"mark\", \"meta\", \"neg\", \"nn\", \"npmod\", \"npadvmod\", \"nsubj\", \"nsubjpass\", \"nummod\",\"nmod\", \"oprd\", \"obj\", \"obl\", \"parataxis\", \"pcomp\",\"predet\", \"pobj\", \"poss\", \"preconj\", \"prep\", \"prt\", \"punct\",  \"quantmod\", \"relcl\", \"ROOT\", \"xcomp\"]\n",
    "NER_LIST = [\"PERSON\", \"NORP\", \"FAC\", \"ORG\", \"GPE\", \"LOC\", \"PRODUCT\", \"EVENT\", \"WORK_OF_ART\", \"LAW\", \"LANGUAGE\", \"DATE\", \"TIME\", \"PERCENT\", \"MONEY\", \"QUANTITY\", \"ORDINAL\", \"CARDINAL\"]"
   ]
  },
  {
   "cell_type": "code",
   "execution_count": 32,
   "id": "813ca923-89a2-448a-928b-9c9d15825ced",
   "metadata": {},
   "outputs": [],
   "source": [
    "# nlp = spacy.load('en_core_web_sm')\n",
    "\n",
    "# nlp.tokenizer.vocab.morphology.tag_map\n",
    "pos_tags = {}\n",
    "for i,p in enumerate(TAG_LIST):\n",
    "    pos_tags[p] = i"
   ]
  },
  {
   "cell_type": "code",
   "execution_count": 33,
   "id": "fd9c66f5-9593-4aa4-abc6-0b6567ab56e6",
   "metadata": {},
   "outputs": [],
   "source": [
    "dep_tags = {}\n",
    "for i,p in enumerate(DEP_LIST):\n",
    "    dep_tags[p] = i"
   ]
  },
  {
   "cell_type": "code",
   "execution_count": 34,
   "id": "a1e10617-e66f-41a1-8b9f-4d1ec0780d99",
   "metadata": {},
   "outputs": [],
   "source": [
    "for i in range(len(train_jsons_aug)):\n",
    "    train_jsons_aug[i]['pos_tags_num'] = [pos_tags[t] for t in train_jsons_aug[i]['pos_tags']]\n",
    "    train_jsons_aug[i]['dep_tags_num'] = [dep_tags[t] for t in train_jsons_aug[i]['dep_label']]"
   ]
  },
  {
   "cell_type": "code",
   "execution_count": 35,
   "id": "bd9cd2dd-506a-456c-af3f-adbcda9e95a5",
   "metadata": {},
   "outputs": [],
   "source": [
    "for i in range(len(test_jsons_aug)):\n",
    "    test_jsons_aug[i]['pos_tags_num'] = [pos_tags[t] for t in test_jsons_aug[i]['pos_tags']]\n",
    "    test_jsons_aug[i]['dep_tags_num'] = [dep_tags[t] for t in test_jsons_aug[i]['dep_label']]"
   ]
  },
  {
   "cell_type": "code",
   "execution_count": 34,
   "id": "2debb84b-5bed-4d48-970a-e3fcbf138683",
   "metadata": {},
   "outputs": [
    {
     "data": {
      "text/html": [
       "<div>\n",
       "<style scoped>\n",
       "    .dataframe tbody tr th:only-of-type {\n",
       "        vertical-align: middle;\n",
       "    }\n",
       "\n",
       "    .dataframe tbody tr th {\n",
       "        vertical-align: top;\n",
       "    }\n",
       "\n",
       "    .dataframe thead th {\n",
       "        text-align: right;\n",
       "    }\n",
       "</style>\n",
       "<table border=\"1\" class=\"dataframe\">\n",
       "  <thead>\n",
       "    <tr style=\"text-align: right;\">\n",
       "      <th></th>\n",
       "      <th>label</th>\n",
       "      <th>utterance</th>\n",
       "    </tr>\n",
       "  </thead>\n",
       "  <tbody>\n",
       "    <tr>\n",
       "      <th>0</th>\n",
       "      <td>Rel</td>\n",
       "      <td>Methods In this double-blind , placebo-control...</td>\n",
       "    </tr>\n",
       "    <tr>\n",
       "      <th>1</th>\n",
       "      <td>NotRel</td>\n",
       "      <td>In a preliminary study , the orally administer...</td>\n",
       "    </tr>\n",
       "    <tr>\n",
       "      <th>2</th>\n",
       "      <td>Rel</td>\n",
       "      <td>Methods In this double-blind , placebo-control...</td>\n",
       "    </tr>\n",
       "    <tr>\n",
       "      <th>3</th>\n",
       "      <td>Rel</td>\n",
       "      <td>Methods In this double-blind , placebo-control...</td>\n",
       "    </tr>\n",
       "    <tr>\n",
       "      <th>4</th>\n",
       "      <td>Rel</td>\n",
       "      <td>Methods In this double-blind , placebo-control...</td>\n",
       "    </tr>\n",
       "  </tbody>\n",
       "</table>\n",
       "</div>"
      ],
      "text/plain": [
       "    label                                          utterance\n",
       "0     Rel  Methods In this double-blind , placebo-control...\n",
       "1  NotRel  In a preliminary study , the orally administer...\n",
       "2     Rel  Methods In this double-blind , placebo-control...\n",
       "3     Rel  Methods In this double-blind , placebo-control...\n",
       "4     Rel  Methods In this double-blind , placebo-control..."
      ]
     },
     "execution_count": 34,
     "metadata": {},
     "output_type": "execute_result"
    }
   ],
   "source": [
    "train_data.head()"
   ]
  },
  {
   "cell_type": "code",
   "execution_count": 36,
   "id": "70e5e7e4-5a0e-4776-b76d-81d4316cb28b",
   "metadata": {},
   "outputs": [],
   "source": [
    "def prepare_features_aug(seq_2, var_dict, max_seq_length = 300, \n",
    "             zero_pad = True, include_CLS_token = True, include_SEP_token = True):\n",
    "    ## Tokenzine Input\n",
    "    tokens_a = seq_2\n",
    "\n",
    "    ## Truncate\n",
    "    if len(tokens_a) > max_seq_length - 2:\n",
    "        tokens_a = tokens_a[0:(max_seq_length - 2)]\n",
    "    ## Initialize Tokens\n",
    "    tokens = []\n",
    "    if include_CLS_token:\n",
    "        tokens.append(tokenizer.cls_token)\n",
    "    ## Add Tokens and separators\n",
    "    for token in tokens_a:\n",
    "        tokens.append(token)\n",
    "\n",
    "    if include_SEP_token:\n",
    "        tokens.append(tokenizer.sep_token)\n",
    "\n",
    "    \n",
    "    input_ids = tokens_a\n",
    "    # input_ids = input_ids.squeeze(0)\n",
    "    ## Input Mask \n",
    "    input_mask = [1] * len(input_ids)\n",
    "    ## Zero-pad sequence lenght\n",
    "    if zero_pad:\n",
    "        while len(input_ids) < max_seq_length:\n",
    "            input_ids.append(0)\n",
    "            input_mask.append(0)\n",
    "    return torch.tensor(input_ids).unsqueeze(0), input_mask"
   ]
  },
  {
   "cell_type": "code",
   "execution_count": 41,
   "id": "bcbb767d-41a2-4485-a8a7-ca37b74f7244",
   "metadata": {},
   "outputs": [],
   "source": [
    "i=0\n",
    "pos_tensor, _ = prepare_features_aug(train_df['pos_tags'][i], pos_tags, max_seq_length = 300, \n",
    "             zero_pad = True, include_CLS_token = True, include_SEP_token = True)\n",
    "dep_tensor, _ = prepare_features_aug(train_df['dep_label'][i], dep_tags, max_seq_length = 300, \n",
    "             zero_pad = True, include_CLS_token = True, include_SEP_token = True)\n",
    "tok_tensor,_= prepare_features(' '.join(train_df['tokens'][0]), max_seq_length = 300, \n",
    "             zero_pad = True, include_CLS_token = True, include_SEP_token = True)\n",
    "ent_tensor,_ = prepare_features_aug(train_df['ent_type'][i], ent_dict, max_seq_length = 300, \n",
    "             zero_pad = True, include_CLS_token = True, include_SEP_token = True)"
   ]
  },
  {
   "cell_type": "code",
   "execution_count": null,
   "id": "2eabd830-6656-4114-9346-64b517111d06",
   "metadata": {},
   "outputs": [],
   "source": [
    "# torch.cat((pos_tensor, dep_tensor,tok_tensor), dim=1).size()\n",
    "# label\n",
    "tok_tensor.size()"
   ]
  },
  {
   "cell_type": "code",
   "execution_count": 38,
   "id": "6e92b096-918c-4365-bd30-956c55123513",
   "metadata": {},
   "outputs": [],
   "source": [
    "class Relations_Aug(Dataset):\n",
    "    def __init__(self, dataframe):\n",
    "        self.len = len(dataframe)\n",
    "        self.data = dataframe\n",
    "        \n",
    "    def __getitem__(self, index):\n",
    "        utterance = self.data.tokens[index]\n",
    "        label = self.data.label[index]\n",
    "        pos_seq = self.data.pos_tags[index]\n",
    "        dep_seq = self.data.dep_label[index]\n",
    "        ent_seq = self.data.ent_type[index]\n",
    "        pos_tensor, _ = prepare_features_aug(pos_seq, pos_tags, max_seq_length = 100, \n",
    "             zero_pad = True, include_CLS_token = True, include_SEP_token = True)\n",
    "        dep_tensor, _ = prepare_features_aug(dep_seq, dep_tags, max_seq_length = 100, \n",
    "                     zero_pad = True, include_CLS_token = True, include_SEP_token = True)\n",
    "        tok_tensor,_= prepare_features(utterance, max_seq_length = 100, \n",
    "                     zero_pad = True, include_CLS_token = True, include_SEP_token = True)\n",
    "        ent_tensor,_ = prepare_features_aug(ent_seq, ent_dict, max_seq_length = 100, \n",
    "             zero_pad = True, include_CLS_token = True, include_SEP_token = True)\n",
    "        X = torch.cat((pos_tensor, dep_tensor, tok_tensor, ent_tensor), dim=1)\n",
    "        y = label_to_ix[label]\n",
    "\n",
    "        return X,y\n",
    "    \n",
    "    def __len__(self):\n",
    "        return self.len"
   ]
  },
  {
   "cell_type": "code",
   "execution_count": 39,
   "id": "07e33adc-1be8-478f-b1d2-c482fcb0052b",
   "metadata": {},
   "outputs": [],
   "source": [
    "def prepare_df(data):\n",
    "    df = pd.DataFrame({'tokens':[], 'pos_tags': [], 'dep_label': [], 'label': [], 'ent_type': []})\n",
    "    for index in tqdm_notebook(range(len(data))):\n",
    "        k = 0\n",
    "        ss1 = []\n",
    "        ent_types = []\n",
    "        for r in range(len(data[index]['relations'])):\n",
    "            k = 0\n",
    "            ss1 = []\n",
    "            label = data[index]['relations'][r]['type']\n",
    "            ent_types = []\n",
    "            # print(label)\n",
    "            while k<len(data[index]['tokens']):\n",
    "                if k == data[index]['entities'][data[index]['relations'][r]['head']]['start']:\n",
    "                    m = data[index]['entities'][data[index]['relations'][r]['head']]['end']\n",
    "                    ss1.append('[s1]')\n",
    "                    ss1.extend(data[index]['tokens'][k:m])\n",
    "                    ss1.append('[e1]')\n",
    "                    if k==m:\n",
    "                        m+=1\n",
    "                    for e in range(k,m):\n",
    "                        ent_types.append(data[index]['entities'][data[index]['relations'][r]['head']]['type'])\n",
    "                    k = m\n",
    "                elif k == data[index]['entities'][data[index]['relations'][r]['tail']]['start']:\n",
    "                    m = data[index]['entities'][data[index]['relations'][r]['tail']]['end']\n",
    "                    ss1.append('[s2]')\n",
    "                    ss1.extend(data[index]['tokens'][k:m])\n",
    "                    ss1.append('[e2]')\n",
    "                    if k==m:\n",
    "                        m+=1\n",
    "                    for e in range(k,m):\n",
    "                        ent_types.append(data[index]['entities'][data[index]['relations'][r]['tail']]['type'])\n",
    "                    k = m\n",
    "                else:\n",
    "                    ss1.append(data[index]['tokens'][k])\n",
    "                    ent_types.append('O')\n",
    "                    k+=1\n",
    "            df0 = pd.concat([pd.Series(' '.join(ss1)), pd.Series([[pos_tags[t] for t in data[index]['pos_tags']]]), \\\n",
    "                             pd.Series([[dep_tags[t] for t in data[index]['dep_label']]]), \n",
    "                            pd.Series([label]), pd.Series([[ent_dict[t] for t in ent_types]])], axis = 1)\n",
    "            df0.columns = df.columns\n",
    "            df = pd.concat([df, df0])\n",
    "            # df.loc[index,'tokens'] = ss1\n",
    "            # df.loc[index,'pos_tags'] = data[index]['pos_tags']\n",
    "            # df.loc[index,'dep_label'] = data[index]['dep_label']\n",
    "            # df.loc[i,'label'] = label\n",
    "    return df.reset_index()"
   ]
  },
  {
   "cell_type": "code",
   "execution_count": 40,
   "id": "1bea1b88-c713-45b4-a93d-3ca773cdeb23",
   "metadata": {},
   "outputs": [
    {
     "name": "stderr",
     "output_type": "stream",
     "text": [
      "/opt/conda/lib/python3.7/site-packages/ipykernel_launcher.py:3: TqdmDeprecationWarning: This function will be removed in tqdm==5.0.0\n",
      "Please use `tqdm.notebook.tqdm` instead of `tqdm.tqdm_notebook`\n",
      "  This is separate from the ipykernel package so we can avoid doing imports until\n"
     ]
    },
    {
     "data": {
      "application/vnd.jupyter.widget-view+json": {
       "model_id": "486c65d86ff94c66938c47d308fe3d62",
       "version_major": 2,
       "version_minor": 0
      },
      "text/plain": [
       "  0%|          | 0/983 [00:00<?, ?it/s]"
      ]
     },
     "metadata": {},
     "output_type": "display_data"
    },
    {
     "data": {
      "application/vnd.jupyter.widget-view+json": {
       "model_id": "f4897e79100d468e8ed55926869f0d8b",
       "version_major": 2,
       "version_minor": 0
      },
      "text/plain": [
       "  0%|          | 0/226 [00:00<?, ?it/s]"
      ]
     },
     "metadata": {},
     "output_type": "display_data"
    }
   ],
   "source": [
    "train_df = prepare_df(train_jsons_aug)\n",
    "test_df = prepare_df(test_jsons_aug)"
   ]
  },
  {
   "cell_type": "code",
   "execution_count": 58,
   "id": "11901f46-79c6-44ce-bfd7-4dd8553aebb7",
   "metadata": {},
   "outputs": [],
   "source": [
    "train_data = train_df[['label','tokens']]\n",
    "train_data.columns = ['label','utterance']\n",
    "\n",
    "test_data = test_df[['label','tokens']]\n",
    "test_data.columns = ['label','utterance']"
   ]
  },
  {
   "cell_type": "code",
   "execution_count": 59,
   "id": "435ceb6e-4399-4e8d-840e-50437eb1bd64",
   "metadata": {},
   "outputs": [
    {
     "data": {
      "text/plain": [
       "NotRel    898\n",
       "Rel       470\n",
       "Name: label, dtype: int64"
      ]
     },
     "execution_count": 59,
     "metadata": {},
     "output_type": "execute_result"
    }
   ],
   "source": [
    "test_df.label.value_counts()"
   ]
  },
  {
   "cell_type": "code",
   "execution_count": 60,
   "id": "8c73532f-a3cf-4db9-9221-ce46bdfc6566",
   "metadata": {},
   "outputs": [
    {
     "data": {
      "text/plain": [
       "NotRel    4286\n",
       "Rel       1812\n",
       "Name: label, dtype: int64"
      ]
     },
     "execution_count": 60,
     "metadata": {},
     "output_type": "execute_result"
    }
   ],
   "source": [
    "train_df.label.value_counts()"
   ]
  },
  {
   "cell_type": "code",
   "execution_count": 26,
   "id": "c7543d69-5f49-4c57-8b91-eefeb6bed163",
   "metadata": {},
   "outputs": [],
   "source": []
  },
  {
   "cell_type": "code",
   "execution_count": 58,
   "id": "816d5ab0-17b4-4e31-b492-610849de67c4",
   "metadata": {},
   "outputs": [
    {
     "data": {
      "text/plain": [
       "{'ade': 0,\n",
       " 'drug': 1,\n",
       " 'duration': 2,\n",
       " 'mm_hg': 3,\n",
       " '6mwd': 4,\n",
       " 'reason': 5,\n",
       " 'stength': 6,\n",
       " 'frequency': 7,\n",
       " 'rate': 8,\n",
       " 'meanpap': 9,\n",
       " 'route': 10,\n",
       " 'fc': 11,\n",
       " 'dosage': 12,\n",
       " 'strength': 13,\n",
       " '*': 14,\n",
       " 'percent_rate': 15,\n",
       " 'form': 16,\n",
       " 'nt-probnp': 17,\n",
       " 'death_rate': 18,\n",
       " 'death': 19,\n",
       " 'prev_treat': 20,\n",
       " '_': 21,\n",
       " 'progression': 22,\n",
       " 'hospitalization': 23,\n",
       " 'unsatisfactory_response': 24,\n",
       " 'O': 25}"
      ]
     },
     "execution_count": 58,
     "metadata": {},
     "output_type": "execute_result"
    }
   ],
   "source": [
    "ent_dict"
   ]
  },
  {
   "cell_type": "code",
   "execution_count": 61,
   "id": "6192f3db-07fc-4576-bf24-59b349c7bffd",
   "metadata": {},
   "outputs": [
    {
     "data": {
      "text/html": [
       "<div>\n",
       "<style scoped>\n",
       "    .dataframe tbody tr th:only-of-type {\n",
       "        vertical-align: middle;\n",
       "    }\n",
       "\n",
       "    .dataframe tbody tr th {\n",
       "        vertical-align: top;\n",
       "    }\n",
       "\n",
       "    .dataframe thead th {\n",
       "        text-align: right;\n",
       "    }\n",
       "</style>\n",
       "<table border=\"1\" class=\"dataframe\">\n",
       "  <thead>\n",
       "    <tr style=\"text-align: right;\">\n",
       "      <th></th>\n",
       "      <th>index</th>\n",
       "      <th>tokens</th>\n",
       "      <th>pos_tags</th>\n",
       "      <th>dep_label</th>\n",
       "      <th>label</th>\n",
       "      <th>ent_type</th>\n",
       "    </tr>\n",
       "  </thead>\n",
       "  <tbody>\n",
       "    <tr>\n",
       "      <th>0</th>\n",
       "      <td>0</td>\n",
       "      <td>Figure 2A demonstrates a [s1] signiﬁcant drop ...</td>\n",
       "      <td>[25, 25, 46, 14, 19, 25, 18, 14, 26, 19, 25, 1...</td>\n",
       "      <td>[13, 30, 48, 20, 5, 21, 43, 20, 33, 5, 40, 43,...</td>\n",
       "      <td>Rel</td>\n",
       "      <td>[25, 25, 25, 25, 0, 0, 0, 0, 0, 0, 0, 25, 25, ...</td>\n",
       "    </tr>\n",
       "    <tr>\n",
       "      <th>1</th>\n",
       "      <td>0</td>\n",
       "      <td>Figure 2A demonstrates a [s1] signiﬁcant drop ...</td>\n",
       "      <td>[25, 25, 46, 14, 19, 25, 18, 14, 26, 19, 25, 1...</td>\n",
       "      <td>[13, 30, 48, 20, 5, 21, 43, 20, 33, 5, 40, 43,...</td>\n",
       "      <td>NotRel</td>\n",
       "      <td>[25, 25, 25, 25, 0, 0, 0, 0, 0, 0, 0, 25, 25, ...</td>\n",
       "    </tr>\n",
       "    <tr>\n",
       "      <th>2</th>\n",
       "      <td>0</td>\n",
       "      <td>Figure 2A demonstrates a [s1] signiﬁcant drop ...</td>\n",
       "      <td>[25, 25, 46, 14, 19, 25, 18, 14, 26, 19, 25, 1...</td>\n",
       "      <td>[13, 30, 48, 20, 5, 21, 43, 20, 33, 5, 40, 43,...</td>\n",
       "      <td>NotRel</td>\n",
       "      <td>[25, 25, 25, 25, 0, 0, 0, 0, 0, 0, 0, 25, 25, ...</td>\n",
       "    </tr>\n",
       "    <tr>\n",
       "      <th>3</th>\n",
       "      <td>0</td>\n",
       "      <td>Figure 2A demonstrates a [s1] signiﬁcant drop ...</td>\n",
       "      <td>[25, 25, 46, 14, 19, 25, 18, 14, 26, 19, 25, 1...</td>\n",
       "      <td>[13, 30, 48, 20, 5, 21, 43, 20, 33, 5, 40, 43,...</td>\n",
       "      <td>NotRel</td>\n",
       "      <td>[25, 25, 25, 25, 0, 0, 0, 0, 0, 0, 0, 25, 25, ...</td>\n",
       "    </tr>\n",
       "    <tr>\n",
       "      <th>4</th>\n",
       "      <td>0</td>\n",
       "      <td>Figure 2A demonstrates a [s1] signiﬁcant drop ...</td>\n",
       "      <td>[25, 25, 46, 14, 19, 25, 18, 14, 26, 19, 25, 1...</td>\n",
       "      <td>[13, 30, 48, 20, 5, 21, 43, 20, 33, 5, 40, 43,...</td>\n",
       "      <td>Rel</td>\n",
       "      <td>[25, 25, 25, 25, 0, 0, 0, 0, 0, 0, 0, 25, 25, ...</td>\n",
       "    </tr>\n",
       "  </tbody>\n",
       "</table>\n",
       "</div>"
      ],
      "text/plain": [
       "   index                                             tokens  \\\n",
       "0      0  Figure 2A demonstrates a [s1] signiﬁcant drop ...   \n",
       "1      0  Figure 2A demonstrates a [s1] signiﬁcant drop ...   \n",
       "2      0  Figure 2A demonstrates a [s1] signiﬁcant drop ...   \n",
       "3      0  Figure 2A demonstrates a [s1] signiﬁcant drop ...   \n",
       "4      0  Figure 2A demonstrates a [s1] signiﬁcant drop ...   \n",
       "\n",
       "                                            pos_tags  \\\n",
       "0  [25, 25, 46, 14, 19, 25, 18, 14, 26, 19, 25, 1...   \n",
       "1  [25, 25, 46, 14, 19, 25, 18, 14, 26, 19, 25, 1...   \n",
       "2  [25, 25, 46, 14, 19, 25, 18, 14, 26, 19, 25, 1...   \n",
       "3  [25, 25, 46, 14, 19, 25, 18, 14, 26, 19, 25, 1...   \n",
       "4  [25, 25, 46, 14, 19, 25, 18, 14, 26, 19, 25, 1...   \n",
       "\n",
       "                                           dep_label   label  \\\n",
       "0  [13, 30, 48, 20, 5, 21, 43, 20, 33, 5, 40, 43,...     Rel   \n",
       "1  [13, 30, 48, 20, 5, 21, 43, 20, 33, 5, 40, 43,...  NotRel   \n",
       "2  [13, 30, 48, 20, 5, 21, 43, 20, 33, 5, 40, 43,...  NotRel   \n",
       "3  [13, 30, 48, 20, 5, 21, 43, 20, 33, 5, 40, 43,...  NotRel   \n",
       "4  [13, 30, 48, 20, 5, 21, 43, 20, 33, 5, 40, 43,...     Rel   \n",
       "\n",
       "                                            ent_type  \n",
       "0  [25, 25, 25, 25, 0, 0, 0, 0, 0, 0, 0, 25, 25, ...  \n",
       "1  [25, 25, 25, 25, 0, 0, 0, 0, 0, 0, 0, 25, 25, ...  \n",
       "2  [25, 25, 25, 25, 0, 0, 0, 0, 0, 0, 0, 25, 25, ...  \n",
       "3  [25, 25, 25, 25, 0, 0, 0, 0, 0, 0, 0, 25, 25, ...  \n",
       "4  [25, 25, 25, 25, 0, 0, 0, 0, 0, 0, 0, 25, 25, ...  "
      ]
     },
     "execution_count": 61,
     "metadata": {},
     "output_type": "execute_result"
    }
   ],
   "source": [
    "train_df.head()"
   ]
  },
  {
   "cell_type": "code",
   "execution_count": 55,
   "id": "1da61f0f-3cd5-409b-935d-a9a0caee62cf",
   "metadata": {},
   "outputs": [
    {
     "data": {
      "text/plain": [
       "2"
      ]
     },
     "execution_count": 55,
     "metadata": {},
     "output_type": "execute_result"
    }
   ],
   "source": [
    "data[index]['relations'][1]['head']"
   ]
  },
  {
   "cell_type": "code",
   "execution_count": 54,
   "id": "1c97011d-0202-4d1b-97ae-0247fd82dcef",
   "metadata": {},
   "outputs": [
    {
     "data": {
      "text/plain": [
       "[{'type': 'drug', 'start': 9, 'end': 10},\n",
       " {'type': 'reason', 'start': 21, 'end': 24},\n",
       " {'type': 'drug', 'start': 11, 'end': 12}]"
      ]
     },
     "execution_count": 54,
     "metadata": {},
     "output_type": "execute_result"
    }
   ],
   "source": [
    "data[index]['entities'][]"
   ]
  },
  {
   "cell_type": "code",
   "execution_count": 42,
   "id": "5e775d48-e7b7-4344-8065-6106511ea11b",
   "metadata": {},
   "outputs": [],
   "source": [
    "training_set_aug = Relations_Aug(train_df)\n",
    "testing_set_aug = Relations_Aug(test_df)"
   ]
  },
  {
   "cell_type": "code",
   "execution_count": 43,
   "id": "fe08e043-4d16-475f-ae96-4f011324a2ea",
   "metadata": {},
   "outputs": [
    {
     "data": {
      "text/plain": [
       "torch.Size([1, 400])"
      ]
     },
     "execution_count": 43,
     "metadata": {},
     "output_type": "execute_result"
    }
   ],
   "source": [
    "training_set_aug.__getitem__(0)[0].size()"
   ]
  },
  {
   "cell_type": "code",
   "execution_count": 44,
   "id": "3f0ccd54-083e-4e10-a4f6-b26acdcdebf7",
   "metadata": {},
   "outputs": [
    {
     "data": {
      "text/plain": [
       "torch.Size([1, 600])"
      ]
     },
     "execution_count": 44,
     "metadata": {},
     "output_type": "execute_result"
    }
   ],
   "source": [
    "torch.cat((pos_tensor, dep_tensor), dim=1).size()"
   ]
  },
  {
   "cell_type": "code",
   "execution_count": 45,
   "id": "02edaeed-6266-4480-a92d-9053595ffc2d",
   "metadata": {},
   "outputs": [
    {
     "data": {
      "text/plain": [
       "torch.Size([1, 300])"
      ]
     },
     "execution_count": 45,
     "metadata": {},
     "output_type": "execute_result"
    }
   ],
   "source": [
    "pos_tensor.squeeze(1).size()"
   ]
  },
  {
   "cell_type": "code",
   "execution_count": 46,
   "id": "5133841e-6775-4cd0-82ea-031ca08f4f1e",
   "metadata": {},
   "outputs": [],
   "source": [
    "params = {'batch_size': 5,\n",
    "          'drop_last': False,\n",
    "          'shuffle': True,\n",
    "          'num_workers': 1}"
   ]
  },
  {
   "cell_type": "code",
   "execution_count": 47,
   "id": "34bf3194-dc5a-4ffb-9052-af05bcbc881b",
   "metadata": {},
   "outputs": [],
   "source": [
    "sampler = torch.utils.data.sampler.BatchSampler(\n",
    "    torch.utils.data.sampler.RandomSampler(training_set_aug),\n",
    "    batch_size=1,\n",
    "    drop_last=False)"
   ]
  },
  {
   "cell_type": "code",
   "execution_count": 48,
   "id": "c714a3d6-47ea-464e-9253-2a2f6d23bae0",
   "metadata": {},
   "outputs": [],
   "source": [
    "training_loader_aug = DataLoader(training_set_aug, **params)\n",
    "testing_loader_aug = DataLoader(testing_set_aug, **params)"
   ]
  },
  {
   "cell_type": "code",
   "execution_count": 49,
   "id": "18574765-ecc9-41c2-987b-7d6d9cac9743",
   "metadata": {},
   "outputs": [],
   "source": [
    "loss_function = nn.CrossEntropyLoss()\n",
    "learning_rate = 1e-04\n",
    "optimizer = optim.SGD(params =  model.parameters(), lr=learning_rate)"
   ]
  },
  {
   "cell_type": "code",
   "execution_count": 50,
   "id": "782fe924-bc52-4171-896d-6b71687f4813",
   "metadata": {},
   "outputs": [
    {
     "name": "stdout",
     "output_type": "stream",
     "text": [
      "torch.Size([1, 400]) torch.Size([1, 2])\n"
     ]
    }
   ],
   "source": [
    "## Test Forward Pass\n",
    "inp = training_set_aug.__getitem__(0)[0].cuda()\n",
    "output = model(inp)[0]\n",
    "print(inp.shape, output.shape)"
   ]
  },
  {
   "cell_type": "code",
   "execution_count": null,
   "id": "fae8f553-64d9-40b6-9f0f-e4655d733246",
   "metadata": {},
   "outputs": [],
   "source": [
    "# for data, label in training_loader_aug:\n",
    "#     print(data.squeeze(1).size(), label.size())"
   ]
  },
  {
   "cell_type": "code",
   "execution_count": 64,
   "id": "90f3a8ce-848d-4159-aaca-2ff577dc96f8",
   "metadata": {},
   "outputs": [
    {
     "name": "stderr",
     "output_type": "stream",
     "text": [
      "/opt/conda/lib/python3.7/site-packages/ipykernel_launcher.py:3: TqdmDeprecationWarning: This function will be removed in tqdm==5.0.0\n",
      "Please use `tqdm.notebook.tqdm` instead of `tqdm.tqdm_notebook`\n",
      "  This is separate from the ipykernel package so we can avoid doing imports until\n"
     ]
    },
    {
     "data": {
      "application/vnd.jupyter.widget-view+json": {
       "model_id": "607d0393b01b4c1787540e5d8c695165",
       "version_major": 2,
       "version_minor": 0
      },
      "text/plain": [
       "  0%|          | 0/20 [00:00<?, ?it/s]"
      ]
     },
     "metadata": {},
     "output_type": "display_data"
    },
    {
     "name": "stdout",
     "output_type": "stream",
     "text": [
      "EPOCH -- 0\n",
      "Iteration: 0. Loss: 0.2761631906032562. Accuracy: 65.5701754385965%\n",
      "Iteration: 100. Loss: 0.5093924403190613. Accuracy: 65.71637426900585%\n",
      "Iteration: 200. Loss: 0.6496957540512085. Accuracy: 65.64327485380117%\n",
      "Iteration: 300. Loss: 0.7034847140312195. Accuracy: 65.78947368421052%\n",
      "Iteration: 400. Loss: 0.38037270307540894. Accuracy: 65.71637426900585%\n",
      "Iteration: 500. Loss: 0.6143695116043091. Accuracy: 65.64327485380117%\n",
      "Iteration: 600. Loss: 0.889144778251648. Accuracy: 65.71637426900585%\n",
      "Iteration: 700. Loss: 0.6716240644454956. Accuracy: 65.5701754385965%\n",
      "Iteration: 800. Loss: 0.7250439524650574. Accuracy: 65.71637426900585%\n",
      "Iteration: 900. Loss: 0.9290422201156616. Accuracy: 65.78947368421052%\n",
      "Iteration: 1000. Loss: 0.8898609280586243. Accuracy: 65.13157894736842%\n",
      "Iteration: 1100. Loss: 0.5079776048660278. Accuracy: 65.71637426900585%\n",
      "Iteration: 1200. Loss: 0.7306002378463745. Accuracy: 65.5701754385965%\n",
      "EPOCH -- 1\n",
      "Iteration: 0. Loss: 0.5137914419174194. Accuracy: 65.49707602339181%\n",
      "Iteration: 100. Loss: 0.36199504137039185. Accuracy: 65.64327485380117%\n",
      "Iteration: 200. Loss: 0.49933892488479614. Accuracy: 65.78947368421052%\n",
      "Iteration: 300. Loss: 0.7596668004989624. Accuracy: 65.78947368421052%\n",
      "Iteration: 400. Loss: 0.35240668058395386. Accuracy: 65.78947368421052%\n",
      "Iteration: 500. Loss: 0.6448675394058228. Accuracy: 66.08187134502924%\n",
      "Iteration: 600. Loss: 0.3977562189102173. Accuracy: 65.49707602339181%\n",
      "Iteration: 700. Loss: 0.8823469281196594. Accuracy: 65.64327485380117%\n",
      "Iteration: 800. Loss: 0.4505285620689392. Accuracy: 65.42397660818713%\n",
      "Iteration: 900. Loss: 0.44609203934669495. Accuracy: 65.71637426900585%\n",
      "Iteration: 1000. Loss: 0.9644660949707031. Accuracy: 66.08187134502924%\n",
      "Iteration: 1100. Loss: 0.6999155282974243. Accuracy: 65.78947368421052%\n",
      "Iteration: 1200. Loss: 0.49952760338783264. Accuracy: 65.49707602339181%\n",
      "EPOCH -- 2\n",
      "Iteration: 0. Loss: 0.43742847442626953. Accuracy: 65.71637426900585%\n",
      "Iteration: 100. Loss: 0.6134356260299683. Accuracy: 65.5701754385965%\n",
      "Iteration: 200. Loss: 0.4542776048183441. Accuracy: 66.30116959064327%\n",
      "Iteration: 300. Loss: 0.4175899028778076. Accuracy: 65.93567251461988%\n",
      "Iteration: 400. Loss: 0.7467724084854126. Accuracy: 66.08187134502924%\n",
      "Iteration: 500. Loss: 0.47283777594566345. Accuracy: 65.71637426900585%\n",
      "Iteration: 600. Loss: 0.585502028465271. Accuracy: 65.5701754385965%\n",
      "Iteration: 700. Loss: 0.38858139514923096. Accuracy: 65.78947368421052%\n",
      "Iteration: 800. Loss: 0.6597074270248413. Accuracy: 65.64327485380117%\n",
      "Iteration: 900. Loss: 0.3459334969520569. Accuracy: 66.00877192982456%\n",
      "Iteration: 1000. Loss: 0.3026507496833801. Accuracy: 65.93567251461988%\n",
      "Iteration: 1100. Loss: 0.665095865726471. Accuracy: 65.8625730994152%\n",
      "Iteration: 1200. Loss: 0.728706955909729. Accuracy: 65.64327485380117%\n",
      "EPOCH -- 3\n",
      "Iteration: 0. Loss: 0.5979195833206177. Accuracy: 65.64327485380117%\n",
      "Iteration: 100. Loss: 0.9303069114685059. Accuracy: 65.5701754385965%\n",
      "Iteration: 200. Loss: 0.5788236856460571. Accuracy: 65.78947368421052%\n",
      "Iteration: 300. Loss: 0.3358546197414398. Accuracy: 65.78947368421052%\n",
      "Iteration: 400. Loss: 0.6920673251152039. Accuracy: 65.05847953216374%\n",
      "Iteration: 500. Loss: 0.4629507064819336. Accuracy: 66.00877192982456%\n",
      "Iteration: 600. Loss: 0.5397731065750122. Accuracy: 65.64327485380117%\n",
      "Iteration: 700. Loss: 0.8148892521858215. Accuracy: 66.15497076023392%\n",
      "Iteration: 800. Loss: 0.6444493532180786. Accuracy: 65.78947368421052%\n",
      "Iteration: 900. Loss: 0.8302094340324402. Accuracy: 65.71637426900585%\n",
      "Iteration: 1000. Loss: 0.5355929136276245. Accuracy: 66.00877192982456%\n",
      "Iteration: 1100. Loss: 0.48447901010513306. Accuracy: 66.15497076023392%\n",
      "Iteration: 1200. Loss: 0.641943097114563. Accuracy: 65.64327485380117%\n",
      "EPOCH -- 4\n",
      "Iteration: 0. Loss: 0.4985802173614502. Accuracy: 65.71637426900585%\n",
      "Iteration: 100. Loss: 0.5464507341384888. Accuracy: 66.00877192982456%\n",
      "Iteration: 200. Loss: 0.7439590096473694. Accuracy: 65.78947368421052%\n",
      "Iteration: 300. Loss: 0.44164055585861206. Accuracy: 65.49707602339181%\n",
      "Iteration: 400. Loss: 0.6185622215270996. Accuracy: 65.93567251461988%\n",
      "Iteration: 500. Loss: 0.8201749920845032. Accuracy: 65.78947368421052%\n",
      "Iteration: 600. Loss: 0.6237342953681946. Accuracy: 65.71637426900585%\n",
      "Iteration: 700. Loss: 0.8312883377075195. Accuracy: 65.8625730994152%\n",
      "Iteration: 800. Loss: 0.5032950043678284. Accuracy: 65.78947368421052%\n",
      "Iteration: 900. Loss: 0.26507630944252014. Accuracy: 65.49707602339181%\n",
      "Iteration: 1000. Loss: 0.5168103575706482. Accuracy: 65.93567251461988%\n",
      "Iteration: 1100. Loss: 0.666594386100769. Accuracy: 65.49707602339181%\n",
      "Iteration: 1200. Loss: 0.5681807398796082. Accuracy: 65.64327485380117%\n",
      "EPOCH -- 5\n",
      "Iteration: 0. Loss: 0.7135781645774841. Accuracy: 65.78947368421052%\n",
      "Iteration: 100. Loss: 0.5765484571456909. Accuracy: 65.49707602339181%\n",
      "Iteration: 200. Loss: 0.5916159749031067. Accuracy: 66.2280701754386%\n",
      "Iteration: 300. Loss: 0.483661413192749. Accuracy: 65.64327485380117%\n",
      "Iteration: 400. Loss: 0.7273610830307007. Accuracy: 65.35087719298245%\n",
      "Iteration: 500. Loss: 0.7926372289657593. Accuracy: 65.27777777777777%\n",
      "Iteration: 600. Loss: 0.8377024531364441. Accuracy: 65.78947368421052%\n",
      "Iteration: 700. Loss: 0.39649417996406555. Accuracy: 65.49707602339181%\n",
      "Iteration: 800. Loss: 0.5955593585968018. Accuracy: 65.8625730994152%\n",
      "Iteration: 900. Loss: 0.4438062608242035. Accuracy: 65.8625730994152%\n",
      "Iteration: 1000. Loss: 0.7764664888381958. Accuracy: 65.78947368421052%\n",
      "Iteration: 1100. Loss: 0.6703943014144897. Accuracy: 65.8625730994152%\n",
      "Iteration: 1200. Loss: 0.6035972833633423. Accuracy: 65.93567251461988%\n",
      "EPOCH -- 6\n",
      "Iteration: 0. Loss: 0.9609823226928711. Accuracy: 66.00877192982456%\n",
      "Iteration: 100. Loss: 0.6326829195022583. Accuracy: 65.35087719298245%\n",
      "Iteration: 200. Loss: 0.6478019952774048. Accuracy: 65.93567251461988%\n",
      "Iteration: 300. Loss: 0.5136593580245972. Accuracy: 65.8625730994152%\n",
      "Iteration: 400. Loss: 0.49866437911987305. Accuracy: 65.8625730994152%\n",
      "Iteration: 500. Loss: 0.5569751858711243. Accuracy: 65.27777777777777%\n",
      "Iteration: 600. Loss: 0.9471033215522766. Accuracy: 65.27777777777777%\n",
      "Iteration: 700. Loss: 0.6793814897537231. Accuracy: 66.00877192982456%\n",
      "Iteration: 800. Loss: 0.5806597471237183. Accuracy: 65.78947368421052%\n",
      "Iteration: 900. Loss: 0.43387871980667114. Accuracy: 65.78947368421052%\n",
      "Iteration: 1000. Loss: 0.4767118990421295. Accuracy: 65.64327485380117%\n",
      "Iteration: 1100. Loss: 0.37375229597091675. Accuracy: 65.8625730994152%\n",
      "Iteration: 1200. Loss: 0.7741594910621643. Accuracy: 65.8625730994152%\n",
      "EPOCH -- 7\n",
      "Iteration: 0. Loss: 0.3980017602443695. Accuracy: 66.15497076023392%\n",
      "Iteration: 100. Loss: 0.7934479713439941. Accuracy: 66.15497076023392%\n",
      "Iteration: 200. Loss: 0.4760668873786926. Accuracy: 65.5701754385965%\n",
      "Iteration: 300. Loss: 0.7218676805496216. Accuracy: 65.71637426900585%\n",
      "Iteration: 400. Loss: 0.48393359780311584. Accuracy: 65.49707602339181%\n",
      "Iteration: 500. Loss: 0.6264508366584778. Accuracy: 65.78947368421052%\n",
      "Iteration: 600. Loss: 0.3374519348144531. Accuracy: 65.49707602339181%\n",
      "Iteration: 700. Loss: 0.8808258175849915. Accuracy: 65.93567251461988%\n",
      "Iteration: 800. Loss: 0.6381409764289856. Accuracy: 65.93567251461988%\n",
      "Iteration: 900. Loss: 0.6154225468635559. Accuracy: 66.00877192982456%\n",
      "Iteration: 1000. Loss: 0.842948317527771. Accuracy: 66.08187134502924%\n",
      "Iteration: 1100. Loss: 0.8515089750289917. Accuracy: 66.30116959064327%\n",
      "Iteration: 1200. Loss: 0.7127621173858643. Accuracy: 66.08187134502924%\n",
      "EPOCH -- 8\n",
      "Iteration: 0. Loss: 0.5133098363876343. Accuracy: 65.64327485380117%\n",
      "Iteration: 100. Loss: 1.0329859256744385. Accuracy: 65.78947368421052%\n",
      "Iteration: 200. Loss: 0.511080265045166. Accuracy: 65.49707602339181%\n",
      "Iteration: 300. Loss: 0.6110916137695312. Accuracy: 65.8625730994152%\n",
      "Iteration: 400. Loss: 0.2980198264122009. Accuracy: 65.49707602339181%\n",
      "Iteration: 500. Loss: 0.7636662721633911. Accuracy: 65.78947368421052%\n",
      "Iteration: 600. Loss: 0.4903572201728821. Accuracy: 65.42397660818713%\n",
      "Iteration: 700. Loss: 0.7257319688796997. Accuracy: 66.00877192982456%\n",
      "Iteration: 800. Loss: 0.8104965090751648. Accuracy: 66.00877192982456%\n",
      "Iteration: 900. Loss: 0.4895075261592865. Accuracy: 65.93567251461988%\n",
      "Iteration: 1000. Loss: 0.37687140703201294. Accuracy: 65.78947368421052%\n",
      "Iteration: 1100. Loss: 0.6674091219902039. Accuracy: 65.93567251461988%\n",
      "Iteration: 1200. Loss: 0.5238704681396484. Accuracy: 65.93567251461988%\n",
      "EPOCH -- 9\n",
      "Iteration: 0. Loss: 0.5930142402648926. Accuracy: 65.93567251461988%\n",
      "Iteration: 100. Loss: 0.831002414226532. Accuracy: 65.64327485380117%\n",
      "Iteration: 200. Loss: 0.6929638385772705. Accuracy: 65.93567251461988%\n",
      "Iteration: 300. Loss: 0.5075645446777344. Accuracy: 66.08187134502924%\n",
      "Iteration: 400. Loss: 0.767121434211731. Accuracy: 65.8625730994152%\n",
      "Iteration: 500. Loss: 0.48727622628211975. Accuracy: 65.5701754385965%\n",
      "Iteration: 600. Loss: 0.5507705807685852. Accuracy: 66.44736842105263%\n",
      "Iteration: 700. Loss: 0.2949879765510559. Accuracy: 65.8625730994152%\n",
      "Iteration: 800. Loss: 0.46355611085891724. Accuracy: 65.71637426900585%\n",
      "Iteration: 900. Loss: 0.4868110716342926. Accuracy: 66.08187134502924%\n",
      "Iteration: 1000. Loss: 0.7195435762405396. Accuracy: 65.71637426900585%\n",
      "Iteration: 1100. Loss: 0.601820170879364. Accuracy: 66.08187134502924%\n",
      "Iteration: 1200. Loss: 0.5632700324058533. Accuracy: 65.78947368421052%\n",
      "EPOCH -- 10\n",
      "Iteration: 0. Loss: 0.8979236483573914. Accuracy: 65.64327485380117%\n",
      "Iteration: 100. Loss: 0.27318984270095825. Accuracy: 65.8625730994152%\n",
      "Iteration: 200. Loss: 0.46815142035484314. Accuracy: 65.93567251461988%\n",
      "Iteration: 300. Loss: 0.6239045262336731. Accuracy: 65.71637426900585%\n",
      "Iteration: 400. Loss: 0.7117726802825928. Accuracy: 65.42397660818713%\n",
      "Iteration: 500. Loss: 0.7171957492828369. Accuracy: 66.15497076023392%\n",
      "Iteration: 600. Loss: 0.3443816602230072. Accuracy: 65.93567251461988%\n",
      "Iteration: 700. Loss: 0.6613417863845825. Accuracy: 65.64327485380117%\n",
      "Iteration: 800. Loss: 1.0673046112060547. Accuracy: 65.64327485380117%\n",
      "Iteration: 900. Loss: 0.6862450838088989. Accuracy: 65.71637426900585%\n",
      "Iteration: 1000. Loss: 0.48722806572914124. Accuracy: 66.08187134502924%\n",
      "Iteration: 1100. Loss: 0.37672412395477295. Accuracy: 65.8625730994152%\n",
      "Iteration: 1200. Loss: 0.428827702999115. Accuracy: 65.93567251461988%\n",
      "EPOCH -- 11\n",
      "Iteration: 0. Loss: 0.6123116612434387. Accuracy: 65.93567251461988%\n",
      "Iteration: 100. Loss: 0.6136734485626221. Accuracy: 66.15497076023392%\n",
      "Iteration: 200. Loss: 0.4128640294075012. Accuracy: 65.5701754385965%\n",
      "Iteration: 300. Loss: 0.6420640349388123. Accuracy: 65.93567251461988%\n",
      "Iteration: 400. Loss: 0.2494659125804901. Accuracy: 66.15497076023392%\n",
      "Iteration: 500. Loss: 0.6350715756416321. Accuracy: 65.78947368421052%\n",
      "Iteration: 600. Loss: 0.8146276473999023. Accuracy: 66.08187134502924%\n",
      "Iteration: 700. Loss: 0.568341851234436. Accuracy: 66.08187134502924%\n",
      "Iteration: 800. Loss: 0.666511595249176. Accuracy: 66.00877192982456%\n",
      "Iteration: 900. Loss: 0.3364560008049011. Accuracy: 65.8625730994152%\n",
      "Iteration: 1000. Loss: 0.8404009938240051. Accuracy: 66.2280701754386%\n",
      "Iteration: 1100. Loss: 0.5905017852783203. Accuracy: 65.64327485380117%\n",
      "Iteration: 1200. Loss: 1.05342698097229. Accuracy: 66.2280701754386%\n",
      "EPOCH -- 12\n",
      "Iteration: 0. Loss: 0.6244624853134155. Accuracy: 65.78947368421052%\n",
      "Iteration: 100. Loss: 0.5462190508842468. Accuracy: 65.2046783625731%\n",
      "Iteration: 200. Loss: 0.5541113018989563. Accuracy: 65.8625730994152%\n",
      "Iteration: 300. Loss: 0.4548358917236328. Accuracy: 65.8625730994152%\n",
      "Iteration: 400. Loss: 0.4139571189880371. Accuracy: 65.5701754385965%\n",
      "Iteration: 500. Loss: 0.40480685234069824. Accuracy: 65.8625730994152%\n",
      "Iteration: 600. Loss: 0.8594027757644653. Accuracy: 65.93567251461988%\n",
      "Iteration: 700. Loss: 0.9463351368904114. Accuracy: 66.30116959064327%\n",
      "Iteration: 800. Loss: 0.7498799562454224. Accuracy: 65.93567251461988%\n",
      "Iteration: 900. Loss: 0.2689724564552307. Accuracy: 65.8625730994152%\n",
      "Iteration: 1000. Loss: 0.4073248505592346. Accuracy: 65.5701754385965%\n",
      "Iteration: 1100. Loss: 0.41605037450790405. Accuracy: 65.8625730994152%\n",
      "Iteration: 1200. Loss: 0.5351427793502808. Accuracy: 65.42397660818713%\n",
      "EPOCH -- 13\n",
      "Iteration: 0. Loss: 0.41711220145225525. Accuracy: 66.37426900584795%\n",
      "Iteration: 100. Loss: 0.49920782446861267. Accuracy: 66.30116959064327%\n",
      "Iteration: 200. Loss: 0.5494965314865112. Accuracy: 66.2280701754386%\n",
      "Iteration: 300. Loss: 0.4816863536834717. Accuracy: 65.64327485380117%\n",
      "Iteration: 400. Loss: 0.5878406763076782. Accuracy: 65.93567251461988%\n",
      "Iteration: 500. Loss: 0.6051753163337708. Accuracy: 66.15497076023392%\n",
      "Iteration: 600. Loss: 0.6121141314506531. Accuracy: 66.08187134502924%\n",
      "Iteration: 700. Loss: 0.29303669929504395. Accuracy: 65.93567251461988%\n",
      "Iteration: 800. Loss: 0.6922436952590942. Accuracy: 66.37426900584795%\n",
      "Iteration: 900. Loss: 0.48849719762802124. Accuracy: 66.15497076023392%\n",
      "Iteration: 1000. Loss: 0.29286354780197144. Accuracy: 66.15497076023392%\n",
      "Iteration: 1100. Loss: 0.8470444679260254. Accuracy: 66.66666666666667%\n",
      "Iteration: 1200. Loss: 0.5869123339653015. Accuracy: 65.05847953216374%\n",
      "EPOCH -- 14\n",
      "Iteration: 0. Loss: 0.5150557160377502. Accuracy: 66.08187134502924%\n",
      "Iteration: 100. Loss: 0.2747153639793396. Accuracy: 66.2280701754386%\n",
      "Iteration: 200. Loss: 0.908382773399353. Accuracy: 65.49707602339181%\n",
      "Iteration: 300. Loss: 0.6803413033485413. Accuracy: 65.5701754385965%\n",
      "Iteration: 400. Loss: 0.6254921555519104. Accuracy: 65.8625730994152%\n",
      "Iteration: 500. Loss: 0.5076972246170044. Accuracy: 65.71637426900585%\n",
      "Iteration: 600. Loss: 1.2486931085586548. Accuracy: 65.71637426900585%\n",
      "Iteration: 700. Loss: 0.3182031810283661. Accuracy: 65.78947368421052%\n",
      "Iteration: 800. Loss: 0.5204176902770996. Accuracy: 66.00877192982456%\n",
      "Iteration: 900. Loss: 0.8005131483078003. Accuracy: 65.71637426900585%\n",
      "Iteration: 1000. Loss: 1.191033124923706. Accuracy: 66.08187134502924%\n",
      "Iteration: 1100. Loss: 0.6722481846809387. Accuracy: 65.93567251461988%\n",
      "Iteration: 1200. Loss: 0.6580007672309875. Accuracy: 65.78947368421052%\n",
      "EPOCH -- 15\n",
      "Iteration: 0. Loss: 0.9479146003723145. Accuracy: 66.2280701754386%\n",
      "Iteration: 100. Loss: 0.7506692409515381. Accuracy: 65.78947368421052%\n",
      "Iteration: 200. Loss: 0.9085525274276733. Accuracy: 66.00877192982456%\n",
      "Iteration: 300. Loss: 0.7345783114433289. Accuracy: 66.37426900584795%\n",
      "Iteration: 400. Loss: 0.4092559814453125. Accuracy: 65.78947368421052%\n",
      "Iteration: 500. Loss: 0.516298770904541. Accuracy: 65.78947368421052%\n",
      "Iteration: 600. Loss: 0.8279467821121216. Accuracy: 65.78947368421052%\n",
      "Iteration: 700. Loss: 0.8069705963134766. Accuracy: 65.5701754385965%\n",
      "Iteration: 800. Loss: 0.6505850553512573. Accuracy: 65.93567251461988%\n",
      "Iteration: 900. Loss: 0.6472984552383423. Accuracy: 66.00877192982456%\n",
      "Iteration: 1000. Loss: 1.1042959690093994. Accuracy: 65.64327485380117%\n",
      "Iteration: 1100. Loss: 0.30004534125328064. Accuracy: 66.30116959064327%\n",
      "Iteration: 1200. Loss: 0.9185478091239929. Accuracy: 66.30116959064327%\n",
      "EPOCH -- 16\n",
      "Iteration: 0. Loss: 0.34336549043655396. Accuracy: 65.71637426900585%\n",
      "Iteration: 100. Loss: 0.5216979384422302. Accuracy: 65.42397660818713%\n",
      "Iteration: 200. Loss: 0.2443966567516327. Accuracy: 65.64327485380117%\n",
      "Iteration: 300. Loss: 0.2761688828468323. Accuracy: 66.30116959064327%\n",
      "Iteration: 400. Loss: 0.5305594205856323. Accuracy: 65.64327485380117%\n",
      "Iteration: 500. Loss: 0.47496628761291504. Accuracy: 65.8625730994152%\n",
      "Iteration: 600. Loss: 0.47094354033470154. Accuracy: 65.93567251461988%\n",
      "Iteration: 700. Loss: 0.7040883898735046. Accuracy: 65.93567251461988%\n",
      "Iteration: 800. Loss: 0.7291675209999084. Accuracy: 65.78947368421052%\n",
      "Iteration: 900. Loss: 0.694919228553772. Accuracy: 66.2280701754386%\n",
      "Iteration: 1000. Loss: 0.4012540876865387. Accuracy: 66.08187134502924%\n",
      "Iteration: 1100. Loss: 0.46863317489624023. Accuracy: 65.78947368421052%\n",
      "Iteration: 1200. Loss: 0.5175085067749023. Accuracy: 65.93567251461988%\n",
      "EPOCH -- 17\n",
      "Iteration: 0. Loss: 0.6981368660926819. Accuracy: 66.00877192982456%\n",
      "Iteration: 100. Loss: 0.6591392755508423. Accuracy: 66.00877192982456%\n",
      "Iteration: 200. Loss: 0.5868639349937439. Accuracy: 66.15497076023392%\n",
      "Iteration: 300. Loss: 0.2974167466163635. Accuracy: 65.35087719298245%\n",
      "Iteration: 400. Loss: 0.8148835897445679. Accuracy: 65.5701754385965%\n",
      "Iteration: 500. Loss: 0.4995078444480896. Accuracy: 66.30116959064327%\n",
      "Iteration: 600. Loss: 0.2469213455915451. Accuracy: 66.37426900584795%\n",
      "Iteration: 700. Loss: 0.4565920829772949. Accuracy: 66.00877192982456%\n",
      "Iteration: 800. Loss: 0.5128634572029114. Accuracy: 66.2280701754386%\n",
      "Iteration: 900. Loss: 0.4716483950614929. Accuracy: 66.2280701754386%\n",
      "Iteration: 1000. Loss: 0.5856639742851257. Accuracy: 65.93567251461988%\n",
      "Iteration: 1100. Loss: 0.6444252729415894. Accuracy: 66.08187134502924%\n",
      "Iteration: 1200. Loss: 0.5272992253303528. Accuracy: 65.78947368421052%\n",
      "EPOCH -- 18\n",
      "Iteration: 0. Loss: 0.6582435369491577. Accuracy: 65.71637426900585%\n",
      "Iteration: 100. Loss: 0.7055717706680298. Accuracy: 65.8625730994152%\n",
      "Iteration: 200. Loss: 0.2704414427280426. Accuracy: 65.78947368421052%\n",
      "Iteration: 300. Loss: 0.49586185812950134. Accuracy: 66.00877192982456%\n",
      "Iteration: 400. Loss: 0.4064086973667145. Accuracy: 66.2280701754386%\n",
      "Iteration: 500. Loss: 0.8208951950073242. Accuracy: 66.08187134502924%\n",
      "Iteration: 600. Loss: 0.39162448048591614. Accuracy: 66.30116959064327%\n",
      "Iteration: 700. Loss: 0.37022918462753296. Accuracy: 65.71637426900585%\n",
      "Iteration: 800. Loss: 0.7897690534591675. Accuracy: 66.08187134502924%\n",
      "Iteration: 900. Loss: 0.5828977823257446. Accuracy: 65.71637426900585%\n",
      "Iteration: 1000. Loss: 0.6668905019760132. Accuracy: 65.78947368421052%\n",
      "Iteration: 1100. Loss: 0.47464585304260254. Accuracy: 65.8625730994152%\n",
      "Iteration: 1200. Loss: 0.4426026940345764. Accuracy: 65.35087719298245%\n",
      "EPOCH -- 19\n",
      "Iteration: 0. Loss: 0.767193078994751. Accuracy: 65.64327485380117%\n",
      "Iteration: 100. Loss: 0.5250198245048523. Accuracy: 66.00877192982456%\n",
      "Iteration: 200. Loss: 0.8606511950492859. Accuracy: 65.42397660818713%\n",
      "Iteration: 300. Loss: 0.7167678475379944. Accuracy: 65.78947368421052%\n",
      "Iteration: 400. Loss: 0.4954747259616852. Accuracy: 65.8625730994152%\n",
      "Iteration: 500. Loss: 0.7562100291252136. Accuracy: 66.37426900584795%\n",
      "Iteration: 600. Loss: 0.8144232630729675. Accuracy: 65.71637426900585%\n",
      "Iteration: 700. Loss: 0.7499475479125977. Accuracy: 66.44736842105263%\n",
      "Iteration: 800. Loss: 0.47289711236953735. Accuracy: 65.8625730994152%\n",
      "Iteration: 900. Loss: 0.5806928277015686. Accuracy: 66.08187134502924%\n",
      "Iteration: 1000. Loss: 0.4628515839576721. Accuracy: 65.71637426900585%\n",
      "Iteration: 1100. Loss: 0.43461236357688904. Accuracy: 66.59356725146199%\n",
      "Iteration: 1200. Loss: 0.5317767858505249. Accuracy: 66.08187134502924%\n"
     ]
    }
   ],
   "source": [
    "max_epochs = 20\n",
    "model = model.train()\n",
    "for epoch in tqdm_notebook(range(max_epochs)):\n",
    "    print(\"EPOCH -- {}\".format(epoch))\n",
    "    for i, (sent, label) in enumerate(training_loader_aug):\n",
    "        optimizer.zero_grad()\n",
    "        sent = sent.squeeze(1)\n",
    "        if torch.cuda.is_available():\n",
    "          sent = sent.cuda()\n",
    "          label = label.cuda()\n",
    "        output = model.forward(sent)[0]\n",
    "        _, predicted = torch.max(output, 1)\n",
    "        \n",
    "        loss = loss_function(output, label)\n",
    "        loss.backward()\n",
    "        optimizer.step()\n",
    "        \n",
    "        if i%100 == 0:\n",
    "            correct = 0\n",
    "            total = 0\n",
    "            for sent, label in testing_loader_aug:\n",
    "                sent = sent.squeeze(1)\n",
    "                if torch.cuda.is_available():\n",
    "                  sent = sent.cuda()\n",
    "                  label = label.cuda()\n",
    "                output = model.forward(sent)[0]\n",
    "                _, predicted = torch.max(output.data, 1)\n",
    "                total += label.size(0)\n",
    "                correct += (predicted.cpu() == label.cpu()).sum()\n",
    "            accuracy = 100.00 * correct.numpy() / total\n",
    "            if accuracy>latest_best_score and accuracy>0.7:\n",
    "                latest_best_score = accuracy\n",
    "                torch.save(model.state_dict(), 'model_roberta_aug_'+str(epoch)+'_'+ str(uuid4())+'.pth')\n",
    "\n",
    "            print('Iteration: {}. Loss: {}. Accuracy: {}%'.format(i, loss.item(), accuracy))"
   ]
  },
  {
   "cell_type": "code",
   "execution_count": 30,
   "id": "201a48ca-a5bd-48d5-9434-430b4a750ae2",
   "metadata": {},
   "outputs": [],
   "source": [
    "# for data in training_loader_aug:\n",
    "#     print(data)"
   ]
  },
  {
   "cell_type": "code",
   "execution_count": 50,
   "id": "5b0990df-79ce-4bbc-bcdc-e05e0d4f8edc",
   "metadata": {},
   "outputs": [],
   "source": [
    "torch.save(model.state_dict(), 'model_4f_vars'+ str(uuid4())+'.pth')"
   ]
  },
  {
   "cell_type": "code",
   "execution_count": 68,
   "id": "e749d54d-b1b1-4747-b7c0-b5ce2ace8a52",
   "metadata": {},
   "outputs": [],
   "source": [
    "model_path = 'model_roberta_aug_13_599ce3ff-c7e3-4e99-924b-16a3755a6037.pth'"
   ]
  },
  {
   "cell_type": "code",
   "execution_count": 69,
   "id": "0d47cc34-1646-4a5b-904c-abc5af1de36e",
   "metadata": {},
   "outputs": [
    {
     "data": {
      "text/plain": [
       "<All keys matched successfully>"
      ]
     },
     "execution_count": 69,
     "metadata": {},
     "output_type": "execute_result"
    }
   ],
   "source": [
    "model.load_state_dict(torch.load(model_path, map_location=device))"
   ]
  },
  {
   "cell_type": "code",
   "execution_count": 66,
   "id": "6c94c32d-1999-4f1f-862b-736e1384a62b",
   "metadata": {},
   "outputs": [],
   "source": [
    "def get_reply(data,index):\n",
    "    model.eval()\n",
    "    utterance = ' '.join(data.tokens[index])\n",
    "    pos_seq = data.pos_tags[index]\n",
    "    dep_seq = data.dep_label[index]\n",
    "    ent_seq = data.ent_type[index]\n",
    "    pos_tensor, _ = prepare_features_aug(pos_seq, pos_tags, max_seq_length = 100, \n",
    "         zero_pad = True, include_CLS_token = True, include_SEP_token = True)\n",
    "    dep_tensor, _ = prepare_features_aug(dep_seq, dep_tags, max_seq_length = 100, \n",
    "                 zero_pad = True, include_CLS_token = True, include_SEP_token = True)\n",
    "    tok_tensor,_= prepare_features(utterance, max_seq_length = 100, \n",
    "                 zero_pad = True, include_CLS_token = True, include_SEP_token = True)\n",
    "    ent_tensor,_ = prepare_features_aug(ent_seq, ent_dict, max_seq_length = 100, \n",
    "         zero_pad = True, include_CLS_token = True, include_SEP_token = True)\n",
    "    X = torch.cat((pos_tensor, dep_tensor, tok_tensor, ent_tensor), dim=1)\n",
    "\n",
    "    if torch.cuda.is_available():\n",
    "        X = X.cuda()\n",
    "    output = model(X)[0]\n",
    "    _, pred_label = torch.max(output.data, 1)\n",
    "    prediction=list(label_to_ix.keys())[pred_label]\n",
    "    return prediction"
   ]
  },
  {
   "cell_type": "code",
   "execution_count": 25,
   "id": "28058196-0de1-43fc-939a-563eb934cac9",
   "metadata": {},
   "outputs": [],
   "source": [
    "inf_jsons_aug = json.load(open('pah/data/articles_inf_aa_aug.json'))\n"
   ]
  },
  {
   "cell_type": "code",
   "execution_count": 30,
   "id": "a2f3358d-9c2d-4d26-ba6f-ac7d651e8209",
   "metadata": {},
   "outputs": [
    {
     "data": {
      "text/plain": [
       "[{'type': 'duration', 'start': 7, 'end': 9}]"
      ]
     },
     "execution_count": 30,
     "metadata": {},
     "output_type": "execute_result"
    }
   ],
   "source": [
    "inf_jsons_aug[10]['entities']"
   ]
  },
  {
   "cell_type": "code",
   "execution_count": 65,
   "id": "c77fa384-60df-4593-85d3-1a8c92a82df1",
   "metadata": {},
   "outputs": [
    {
     "name": "stderr",
     "output_type": "stream",
     "text": [
      "/opt/conda/lib/python3.7/site-packages/ipykernel_launcher.py:3: TqdmDeprecationWarning: This function will be removed in tqdm==5.0.0\n",
      "Please use `tqdm.notebook.tqdm` instead of `tqdm.tqdm_notebook`\n",
      "  This is separate from the ipykernel package so we can avoid doing imports until\n"
     ]
    },
    {
     "data": {
      "application/vnd.jupyter.widget-view+json": {
       "model_id": "a888afd6d00845438ecabe5d726aabe8",
       "version_major": 2,
       "version_minor": 0
      },
      "text/plain": [
       "  0%|          | 0/30348 [00:00<?, ?it/s]"
      ]
     },
     "metadata": {},
     "output_type": "display_data"
    },
    {
     "data": {
      "text/html": [
       "<div>\n",
       "<style scoped>\n",
       "    .dataframe tbody tr th:only-of-type {\n",
       "        vertical-align: middle;\n",
       "    }\n",
       "\n",
       "    .dataframe tbody tr th {\n",
       "        vertical-align: top;\n",
       "    }\n",
       "\n",
       "    .dataframe thead th {\n",
       "        text-align: right;\n",
       "    }\n",
       "</style>\n",
       "<table border=\"1\" class=\"dataframe\">\n",
       "  <thead>\n",
       "    <tr style=\"text-align: right;\">\n",
       "      <th></th>\n",
       "      <th>index</th>\n",
       "      <th>tokens</th>\n",
       "      <th>pos_tags</th>\n",
       "      <th>dep_label</th>\n",
       "      <th>label</th>\n",
       "      <th>ent_type</th>\n",
       "    </tr>\n",
       "  </thead>\n",
       "  <tbody>\n",
       "    <tr>\n",
       "      <th>0</th>\n",
       "      <td>0</td>\n",
       "      <td>Comparison of hemodynamic parameters in treatm...</td>\n",
       "      <td>[25, 18, 19, 28, 18, 19, 12, 42, 28, 18, 19, 1...</td>\n",
       "      <td>[48, 43, 5, 40, 43, 5, 11, 14, 40, 43, 5, 5, 4...</td>\n",
       "      <td>NotRel</td>\n",
       "      <td>[25, 25, 25, 25, 25, 25, 25, 25, 25, 25, 5, 5,...</td>\n",
       "    </tr>\n",
       "    <tr>\n",
       "      <th>1</th>\n",
       "      <td>0</td>\n",
       "      <td>Comparison of hemodynamic parameters in treatm...</td>\n",
       "      <td>[25, 18, 19, 28, 18, 19, 12, 42, 28, 18, 19, 1...</td>\n",
       "      <td>[48, 43, 5, 40, 43, 5, 11, 14, 40, 43, 5, 5, 4...</td>\n",
       "      <td>NotRel</td>\n",
       "      <td>[25, 25, 25, 25, 25, 25, 25, 25, 25, 25, 5, 5,...</td>\n",
       "    </tr>\n",
       "    <tr>\n",
       "      <th>2</th>\n",
       "      <td>0</td>\n",
       "      <td>E-mail address : nazzareno.galie @ unibo.it BA...</td>\n",
       "      <td>[25, 25, 2, 25, 18, 26, 26, 2, 25, 18, 19, 19,...</td>\n",
       "      <td>[13, 48, 45, 19, 45, 13, 48, 45, 48, 43, 5, 5,...</td>\n",
       "      <td>NotRel</td>\n",
       "      <td>[25, 25, 25, 25, 25, 25, 25, 25, 25, 25, 25, 2...</td>\n",
       "    </tr>\n",
       "    <tr>\n",
       "      <th>3</th>\n",
       "      <td>0</td>\n",
       "      <td>E-mail address : nazzareno.galie @ unibo.it BA...</td>\n",
       "      <td>[25, 25, 2, 25, 18, 26, 26, 2, 25, 18, 19, 19,...</td>\n",
       "      <td>[13, 48, 45, 19, 45, 13, 48, 45, 48, 43, 5, 5,...</td>\n",
       "      <td>NotRel</td>\n",
       "      <td>[25, 25, 25, 25, 25, 25, 25, 25, 25, 25, 25, 2...</td>\n",
       "    </tr>\n",
       "    <tr>\n",
       "      <th>4</th>\n",
       "      <td>0</td>\n",
       "      <td>E-mail address : nazzareno.galie @ unibo.it BA...</td>\n",
       "      <td>[25, 25, 2, 25, 18, 26, 26, 2, 25, 18, 19, 19,...</td>\n",
       "      <td>[13, 48, 45, 19, 45, 13, 48, 45, 48, 43, 5, 5,...</td>\n",
       "      <td>NotRel</td>\n",
       "      <td>[25, 25, 25, 25, 25, 25, 25, 25, 25, 25, 25, 2...</td>\n",
       "    </tr>\n",
       "  </tbody>\n",
       "</table>\n",
       "</div>"
      ],
      "text/plain": [
       "   index                                             tokens  \\\n",
       "0      0  Comparison of hemodynamic parameters in treatm...   \n",
       "1      0  Comparison of hemodynamic parameters in treatm...   \n",
       "2      0  E-mail address : nazzareno.galie @ unibo.it BA...   \n",
       "3      0  E-mail address : nazzareno.galie @ unibo.it BA...   \n",
       "4      0  E-mail address : nazzareno.galie @ unibo.it BA...   \n",
       "\n",
       "                                            pos_tags  \\\n",
       "0  [25, 18, 19, 28, 18, 19, 12, 42, 28, 18, 19, 1...   \n",
       "1  [25, 18, 19, 28, 18, 19, 12, 42, 28, 18, 19, 1...   \n",
       "2  [25, 25, 2, 25, 18, 26, 26, 2, 25, 18, 19, 19,...   \n",
       "3  [25, 25, 2, 25, 18, 26, 26, 2, 25, 18, 19, 19,...   \n",
       "4  [25, 25, 2, 25, 18, 26, 26, 2, 25, 18, 19, 19,...   \n",
       "\n",
       "                                           dep_label   label  \\\n",
       "0  [48, 43, 5, 40, 43, 5, 11, 14, 40, 43, 5, 5, 4...  NotRel   \n",
       "1  [48, 43, 5, 40, 43, 5, 11, 14, 40, 43, 5, 5, 4...  NotRel   \n",
       "2  [13, 48, 45, 19, 45, 13, 48, 45, 48, 43, 5, 5,...  NotRel   \n",
       "3  [13, 48, 45, 19, 45, 13, 48, 45, 48, 43, 5, 5,...  NotRel   \n",
       "4  [13, 48, 45, 19, 45, 13, 48, 45, 48, 43, 5, 5,...  NotRel   \n",
       "\n",
       "                                            ent_type  \n",
       "0  [25, 25, 25, 25, 25, 25, 25, 25, 25, 25, 5, 5,...  \n",
       "1  [25, 25, 25, 25, 25, 25, 25, 25, 25, 25, 5, 5,...  \n",
       "2  [25, 25, 25, 25, 25, 25, 25, 25, 25, 25, 25, 2...  \n",
       "3  [25, 25, 25, 25, 25, 25, 25, 25, 25, 25, 25, 2...  \n",
       "4  [25, 25, 25, 25, 25, 25, 25, 25, 25, 25, 25, 2...  "
      ]
     },
     "execution_count": 65,
     "metadata": {},
     "output_type": "execute_result"
    }
   ],
   "source": [
    "inf_df = prepare_df(inf_jsons_aug)\n",
    "inf_df.head()"
   ]
  },
  {
   "cell_type": "code",
   "execution_count": 70,
   "id": "9393c533-ec01-4d43-9967-5ea4a50c6716",
   "metadata": {},
   "outputs": [
    {
     "name": "stderr",
     "output_type": "stream",
     "text": [
      "/opt/conda/lib/python3.7/site-packages/ipykernel_launcher.py:2: TqdmDeprecationWarning: This function will be removed in tqdm==5.0.0\n",
      "Please use `tqdm.notebook.tqdm` instead of `tqdm.tqdm_notebook`\n",
      "  \n"
     ]
    },
    {
     "data": {
      "application/vnd.jupyter.widget-view+json": {
       "model_id": "453aec6e499b48c1b78bd47ede9fe76f",
       "version_major": 2,
       "version_minor": 0
      },
      "text/plain": [
       "  0%|          | 0/74220 [00:00<?, ?it/s]"
      ]
     },
     "metadata": {},
     "output_type": "display_data"
    }
   ],
   "source": [
    "inf_rel = []\n",
    "for i in tqdm_notebook(range(inf_df.shape[0])):\n",
    "    inf_rel.append(get_reply(inf_df, i))"
   ]
  },
  {
   "cell_type": "code",
   "execution_count": 41,
   "id": "bfe8954c-b084-4e6c-a088-2d00b7a9df73",
   "metadata": {},
   "outputs": [
    {
     "name": "stderr",
     "output_type": "stream",
     "text": [
      "/opt/conda/lib/python3.7/site-packages/ipykernel_launcher.py:2: TqdmDeprecationWarning: This function will be removed in tqdm==5.0.0\n",
      "Please use `tqdm.notebook.tqdm` instead of `tqdm.tqdm_notebook`\n",
      "  \n"
     ]
    },
    {
     "data": {
      "application/vnd.jupyter.widget-view+json": {
       "model_id": "501ee069bca741358f1210be93f5d79f",
       "version_major": 2,
       "version_minor": 0
      },
      "text/plain": [
       "  0%|          | 0/1368 [00:00<?, ?it/s]"
      ]
     },
     "metadata": {},
     "output_type": "display_data"
    }
   ],
   "source": [
    "test_rel = []\n",
    "for i in tqdm_notebook(range(test_df.shape[0])):\n",
    "    test_rel.append(get_reply(test_df, i))"
   ]
  },
  {
   "cell_type": "code",
   "execution_count": 42,
   "id": "28f85dd2-fcdf-4140-90e6-c4e50e377d0b",
   "metadata": {},
   "outputs": [],
   "source": [
    "test_rel_df = pd.DataFrame(test_rel)\n",
    "test_rel_df.columns = ['Relation']"
   ]
  },
  {
   "cell_type": "code",
   "execution_count": 71,
   "id": "0f75491c-ef50-4236-ae3e-e8d2a1beff12",
   "metadata": {},
   "outputs": [],
   "source": [
    "inf_rel_df = pd.DataFrame(inf_rel)\n",
    "inf_rel_df.columns = ['Relation']"
   ]
  },
  {
   "cell_type": "code",
   "execution_count": 43,
   "id": "fa8c9402-de44-4b65-a110-440cdddea495",
   "metadata": {},
   "outputs": [
    {
     "data": {
      "text/plain": [
       "NotRel    1091\n",
       "Rel        277\n",
       "Name: Relation, dtype: int64"
      ]
     },
     "execution_count": 43,
     "metadata": {},
     "output_type": "execute_result"
    }
   ],
   "source": [
    "test_rel_df.Relation.value_counts()"
   ]
  },
  {
   "cell_type": "code",
   "execution_count": 44,
   "id": "6172611e-7f21-490e-8523-557d9b727928",
   "metadata": {},
   "outputs": [
    {
     "data": {
      "text/plain": [
       "NotRel    898\n",
       "Rel       470\n",
       "Name: label, dtype: int64"
      ]
     },
     "execution_count": 44,
     "metadata": {},
     "output_type": "execute_result"
    }
   ],
   "source": [
    "test_df.label.value_counts()"
   ]
  },
  {
   "cell_type": "code",
   "execution_count": 77,
   "id": "e5eae2d4-8f9a-41f8-9a0d-7fa6f6d44203",
   "metadata": {},
   "outputs": [
    {
     "data": {
      "text/plain": [
       "NotRel    74220\n",
       "Name: Relation, dtype: int64"
      ]
     },
     "execution_count": 77,
     "metadata": {},
     "output_type": "execute_result"
    }
   ],
   "source": [
    "inf_rel_df.Relation.value_counts()"
   ]
  },
  {
   "cell_type": "code",
   "execution_count": 73,
   "id": "2f2f013b-14e6-43d0-8065-a878839b3681",
   "metadata": {},
   "outputs": [
    {
     "data": {
      "text/html": [
       "<div>\n",
       "<style scoped>\n",
       "    .dataframe tbody tr th:only-of-type {\n",
       "        vertical-align: middle;\n",
       "    }\n",
       "\n",
       "    .dataframe tbody tr th {\n",
       "        vertical-align: top;\n",
       "    }\n",
       "\n",
       "    .dataframe thead th {\n",
       "        text-align: right;\n",
       "    }\n",
       "</style>\n",
       "<table border=\"1\" class=\"dataframe\">\n",
       "  <thead>\n",
       "    <tr style=\"text-align: right;\">\n",
       "      <th></th>\n",
       "      <th>index</th>\n",
       "      <th>tokens</th>\n",
       "      <th>pos_tags</th>\n",
       "      <th>dep_label</th>\n",
       "      <th>label</th>\n",
       "      <th>ent_type</th>\n",
       "      <th>Relation</th>\n",
       "    </tr>\n",
       "  </thead>\n",
       "  <tbody>\n",
       "    <tr>\n",
       "      <th>0</th>\n",
       "      <td>0</td>\n",
       "      <td>Comparison of hemodynamic parameters in treatm...</td>\n",
       "      <td>[25, 18, 19, 28, 18, 19, 12, 42, 28, 18, 19, 1...</td>\n",
       "      <td>[48, 43, 5, 40, 43, 5, 11, 14, 40, 43, 5, 5, 4...</td>\n",
       "      <td>NotRel</td>\n",
       "      <td>[25, 25, 25, 25, 25, 25, 25, 25, 25, 25, 5, 5,...</td>\n",
       "      <td>NotRel</td>\n",
       "    </tr>\n",
       "    <tr>\n",
       "      <th>1</th>\n",
       "      <td>0</td>\n",
       "      <td>Comparison of hemodynamic parameters in treatm...</td>\n",
       "      <td>[25, 18, 19, 28, 18, 19, 12, 42, 28, 18, 19, 1...</td>\n",
       "      <td>[48, 43, 5, 40, 43, 5, 11, 14, 40, 43, 5, 5, 4...</td>\n",
       "      <td>NotRel</td>\n",
       "      <td>[25, 25, 25, 25, 25, 25, 25, 25, 25, 25, 5, 5,...</td>\n",
       "      <td>NotRel</td>\n",
       "    </tr>\n",
       "    <tr>\n",
       "      <th>2</th>\n",
       "      <td>0</td>\n",
       "      <td>E-mail address : nazzareno.galie @ unibo.it BA...</td>\n",
       "      <td>[25, 25, 2, 25, 18, 26, 26, 2, 25, 18, 19, 19,...</td>\n",
       "      <td>[13, 48, 45, 19, 45, 13, 48, 45, 48, 43, 5, 5,...</td>\n",
       "      <td>NotRel</td>\n",
       "      <td>[25, 25, 25, 25, 25, 25, 25, 25, 25, 25, 25, 2...</td>\n",
       "      <td>NotRel</td>\n",
       "    </tr>\n",
       "    <tr>\n",
       "      <th>3</th>\n",
       "      <td>0</td>\n",
       "      <td>E-mail address : nazzareno.galie @ unibo.it BA...</td>\n",
       "      <td>[25, 25, 2, 25, 18, 26, 26, 2, 25, 18, 19, 19,...</td>\n",
       "      <td>[13, 48, 45, 19, 45, 13, 48, 45, 48, 43, 5, 5,...</td>\n",
       "      <td>NotRel</td>\n",
       "      <td>[25, 25, 25, 25, 25, 25, 25, 25, 25, 25, 25, 2...</td>\n",
       "      <td>NotRel</td>\n",
       "    </tr>\n",
       "    <tr>\n",
       "      <th>4</th>\n",
       "      <td>0</td>\n",
       "      <td>E-mail address : nazzareno.galie @ unibo.it BA...</td>\n",
       "      <td>[25, 25, 2, 25, 18, 26, 26, 2, 25, 18, 19, 19,...</td>\n",
       "      <td>[13, 48, 45, 19, 45, 13, 48, 45, 48, 43, 5, 5,...</td>\n",
       "      <td>NotRel</td>\n",
       "      <td>[25, 25, 25, 25, 25, 25, 25, 25, 25, 25, 25, 2...</td>\n",
       "      <td>NotRel</td>\n",
       "    </tr>\n",
       "  </tbody>\n",
       "</table>\n",
       "</div>"
      ],
      "text/plain": [
       "   index                                             tokens  \\\n",
       "0      0  Comparison of hemodynamic parameters in treatm...   \n",
       "1      0  Comparison of hemodynamic parameters in treatm...   \n",
       "2      0  E-mail address : nazzareno.galie @ unibo.it BA...   \n",
       "3      0  E-mail address : nazzareno.galie @ unibo.it BA...   \n",
       "4      0  E-mail address : nazzareno.galie @ unibo.it BA...   \n",
       "\n",
       "                                            pos_tags  \\\n",
       "0  [25, 18, 19, 28, 18, 19, 12, 42, 28, 18, 19, 1...   \n",
       "1  [25, 18, 19, 28, 18, 19, 12, 42, 28, 18, 19, 1...   \n",
       "2  [25, 25, 2, 25, 18, 26, 26, 2, 25, 18, 19, 19,...   \n",
       "3  [25, 25, 2, 25, 18, 26, 26, 2, 25, 18, 19, 19,...   \n",
       "4  [25, 25, 2, 25, 18, 26, 26, 2, 25, 18, 19, 19,...   \n",
       "\n",
       "                                           dep_label   label  \\\n",
       "0  [48, 43, 5, 40, 43, 5, 11, 14, 40, 43, 5, 5, 4...  NotRel   \n",
       "1  [48, 43, 5, 40, 43, 5, 11, 14, 40, 43, 5, 5, 4...  NotRel   \n",
       "2  [13, 48, 45, 19, 45, 13, 48, 45, 48, 43, 5, 5,...  NotRel   \n",
       "3  [13, 48, 45, 19, 45, 13, 48, 45, 48, 43, 5, 5,...  NotRel   \n",
       "4  [13, 48, 45, 19, 45, 13, 48, 45, 48, 43, 5, 5,...  NotRel   \n",
       "\n",
       "                                            ent_type Relation  \n",
       "0  [25, 25, 25, 25, 25, 25, 25, 25, 25, 25, 5, 5,...   NotRel  \n",
       "1  [25, 25, 25, 25, 25, 25, 25, 25, 25, 25, 5, 5,...   NotRel  \n",
       "2  [25, 25, 25, 25, 25, 25, 25, 25, 25, 25, 25, 2...   NotRel  \n",
       "3  [25, 25, 25, 25, 25, 25, 25, 25, 25, 25, 25, 2...   NotRel  \n",
       "4  [25, 25, 25, 25, 25, 25, 25, 25, 25, 25, 25, 2...   NotRel  "
      ]
     },
     "execution_count": 73,
     "metadata": {},
     "output_type": "execute_result"
    }
   ],
   "source": [
    "inf_df = pd.concat([inf_df, inf_rel_df], axis = 1)\n",
    "inf_df.head()"
   ]
  },
  {
   "cell_type": "code",
   "execution_count": 61,
   "id": "e763b5e4-a020-49e6-bfd5-88ebd6c036c4",
   "metadata": {},
   "outputs": [
    {
     "data": {
      "text/html": [
       "<div>\n",
       "<style scoped>\n",
       "    .dataframe tbody tr th:only-of-type {\n",
       "        vertical-align: middle;\n",
       "    }\n",
       "\n",
       "    .dataframe tbody tr th {\n",
       "        vertical-align: top;\n",
       "    }\n",
       "\n",
       "    .dataframe thead th {\n",
       "        text-align: right;\n",
       "    }\n",
       "</style>\n",
       "<table border=\"1\" class=\"dataframe\">\n",
       "  <thead>\n",
       "    <tr style=\"text-align: right;\">\n",
       "      <th></th>\n",
       "      <th>index</th>\n",
       "      <th>tokens</th>\n",
       "      <th>pos_tags</th>\n",
       "      <th>dep_label</th>\n",
       "      <th>label</th>\n",
       "      <th>ent_type</th>\n",
       "      <th>Relation</th>\n",
       "    </tr>\n",
       "  </thead>\n",
       "  <tbody>\n",
       "    <tr>\n",
       "      <th>9</th>\n",
       "      <td>0</td>\n",
       "      <td>[METHODS, :, Patients, with, [s1], PAH, [e1], ...</td>\n",
       "      <td>[NNP, :, NNS, IN, NNP, WP, VBD, NN, JJ, CC, VB...</td>\n",
       "      <td>[ROOT, punct, appos, prep, pobj, nsubj, relcl,...</td>\n",
       "      <td>NotRel</td>\n",
       "      <td>[O, O, O, O, reason, O, O, O, O, O, O, O, O, O...</td>\n",
       "      <td>Rel</td>\n",
       "    </tr>\n",
       "    <tr>\n",
       "      <th>10</th>\n",
       "      <td>0</td>\n",
       "      <td>[METHODS, :, Patients, with, [s1], PAH, [e1], ...</td>\n",
       "      <td>[NNP, :, NNS, IN, NNP, WP, VBD, NN, JJ, CC, VB...</td>\n",
       "      <td>[ROOT, punct, appos, prep, pobj, nsubj, relcl,...</td>\n",
       "      <td>NotRel</td>\n",
       "      <td>[O, O, O, O, reason, O, O, O, O, O, O, O, O, O...</td>\n",
       "      <td>Rel</td>\n",
       "    </tr>\n",
       "    <tr>\n",
       "      <th>13</th>\n",
       "      <td>0</td>\n",
       "      <td>[METHODS, :, Patients, with, PAH, who, were, t...</td>\n",
       "      <td>[NNP, :, NNS, IN, NNP, WP, VBD, NN, JJ, CC, VB...</td>\n",
       "      <td>[ROOT, punct, appos, prep, pobj, nsubj, relcl,...</td>\n",
       "      <td>NotRel</td>\n",
       "      <td>[O, O, O, O, O, O, O, O, O, O, O, O, drug, O, ...</td>\n",
       "      <td>Rel</td>\n",
       "    </tr>\n",
       "    <tr>\n",
       "      <th>14</th>\n",
       "      <td>0</td>\n",
       "      <td>[METHODS, :, Patients, with, [s2], PAH, [e2], ...</td>\n",
       "      <td>[NNP, :, NNS, IN, NNP, WP, VBD, NN, JJ, CC, VB...</td>\n",
       "      <td>[ROOT, punct, appos, prep, pobj, nsubj, relcl,...</td>\n",
       "      <td>NotRel</td>\n",
       "      <td>[O, O, O, O, reason, O, O, O, O, O, O, O, O, O...</td>\n",
       "      <td>Rel</td>\n",
       "    </tr>\n",
       "    <tr>\n",
       "      <th>17</th>\n",
       "      <td>0</td>\n",
       "      <td>[METHODS, :, Patients, with, [s2], PAH, [e2], ...</td>\n",
       "      <td>[NNP, :, NNS, IN, NNP, WP, VBD, NN, JJ, CC, VB...</td>\n",
       "      <td>[ROOT, punct, appos, prep, pobj, nsubj, relcl,...</td>\n",
       "      <td>NotRel</td>\n",
       "      <td>[O, O, O, O, reason, O, O, O, O, O, O, O, O, O...</td>\n",
       "      <td>Rel</td>\n",
       "    </tr>\n",
       "    <tr>\n",
       "      <th>...</th>\n",
       "      <td>...</td>\n",
       "      <td>...</td>\n",
       "      <td>...</td>\n",
       "      <td>...</td>\n",
       "      <td>...</td>\n",
       "      <td>...</td>\n",
       "      <td>...</td>\n",
       "    </tr>\n",
       "    <tr>\n",
       "      <th>74181</th>\n",
       "      <td>0</td>\n",
       "      <td>[In, this, trial, ,, a, total, of, 185, PAH, p...</td>\n",
       "      <td>[IN, DT, NN, ,, DT, NN, IN, CD, NNP, NNS, IN, ...</td>\n",
       "      <td>[prep, det, pobj, punct, det, nsubjpass, prep,...</td>\n",
       "      <td>NotRel</td>\n",
       "      <td>[O, O, O, O, O, O, O, O, O, O, O, O, O, O, O, ...</td>\n",
       "      <td>Rel</td>\n",
       "    </tr>\n",
       "    <tr>\n",
       "      <th>74184</th>\n",
       "      <td>0</td>\n",
       "      <td>[In, this, trial, ,, a, total, of, 185, PAH, p...</td>\n",
       "      <td>[IN, DT, NN, ,, DT, NN, IN, CD, NNP, NNS, IN, ...</td>\n",
       "      <td>[prep, det, pobj, punct, det, nsubjpass, prep,...</td>\n",
       "      <td>NotRel</td>\n",
       "      <td>[O, O, O, O, O, O, O, O, O, O, O, O, O, O, O, ...</td>\n",
       "      <td>Rel</td>\n",
       "    </tr>\n",
       "    <tr>\n",
       "      <th>74185</th>\n",
       "      <td>0</td>\n",
       "      <td>[In, this, trial, ,, a, total, of, 185, PAH, p...</td>\n",
       "      <td>[IN, DT, NN, ,, DT, NN, IN, CD, NNP, NNS, IN, ...</td>\n",
       "      <td>[prep, det, pobj, punct, det, nsubjpass, prep,...</td>\n",
       "      <td>NotRel</td>\n",
       "      <td>[O, O, O, O, O, O, O, O, O, O, O, O, O, O, O, ...</td>\n",
       "      <td>Rel</td>\n",
       "    </tr>\n",
       "    <tr>\n",
       "      <th>74188</th>\n",
       "      <td>0</td>\n",
       "      <td>[In, this, trial, ,, a, total, of, 185, PAH, p...</td>\n",
       "      <td>[IN, DT, NN, ,, DT, NN, IN, CD, NNP, NNS, IN, ...</td>\n",
       "      <td>[prep, det, pobj, punct, det, nsubjpass, prep,...</td>\n",
       "      <td>NotRel</td>\n",
       "      <td>[O, O, O, O, O, O, O, O, O, O, O, O, O, O, O, ...</td>\n",
       "      <td>Rel</td>\n",
       "    </tr>\n",
       "    <tr>\n",
       "      <th>74189</th>\n",
       "      <td>0</td>\n",
       "      <td>[In, this, trial, ,, a, total, of, 185, PAH, p...</td>\n",
       "      <td>[IN, DT, NN, ,, DT, NN, IN, CD, NNP, NNS, IN, ...</td>\n",
       "      <td>[prep, det, pobj, punct, det, nsubjpass, prep,...</td>\n",
       "      <td>NotRel</td>\n",
       "      <td>[O, O, O, O, O, O, O, O, O, O, O, O, O, O, O, ...</td>\n",
       "      <td>Rel</td>\n",
       "    </tr>\n",
       "  </tbody>\n",
       "</table>\n",
       "<p>15062 rows × 7 columns</p>\n",
       "</div>"
      ],
      "text/plain": [
       "       index                                             tokens  \\\n",
       "9          0  [METHODS, :, Patients, with, [s1], PAH, [e1], ...   \n",
       "10         0  [METHODS, :, Patients, with, [s1], PAH, [e1], ...   \n",
       "13         0  [METHODS, :, Patients, with, PAH, who, were, t...   \n",
       "14         0  [METHODS, :, Patients, with, [s2], PAH, [e2], ...   \n",
       "17         0  [METHODS, :, Patients, with, [s2], PAH, [e2], ...   \n",
       "...      ...                                                ...   \n",
       "74181      0  [In, this, trial, ,, a, total, of, 185, PAH, p...   \n",
       "74184      0  [In, this, trial, ,, a, total, of, 185, PAH, p...   \n",
       "74185      0  [In, this, trial, ,, a, total, of, 185, PAH, p...   \n",
       "74188      0  [In, this, trial, ,, a, total, of, 185, PAH, p...   \n",
       "74189      0  [In, this, trial, ,, a, total, of, 185, PAH, p...   \n",
       "\n",
       "                                                pos_tags  \\\n",
       "9      [NNP, :, NNS, IN, NNP, WP, VBD, NN, JJ, CC, VB...   \n",
       "10     [NNP, :, NNS, IN, NNP, WP, VBD, NN, JJ, CC, VB...   \n",
       "13     [NNP, :, NNS, IN, NNP, WP, VBD, NN, JJ, CC, VB...   \n",
       "14     [NNP, :, NNS, IN, NNP, WP, VBD, NN, JJ, CC, VB...   \n",
       "17     [NNP, :, NNS, IN, NNP, WP, VBD, NN, JJ, CC, VB...   \n",
       "...                                                  ...   \n",
       "74181  [IN, DT, NN, ,, DT, NN, IN, CD, NNP, NNS, IN, ...   \n",
       "74184  [IN, DT, NN, ,, DT, NN, IN, CD, NNP, NNS, IN, ...   \n",
       "74185  [IN, DT, NN, ,, DT, NN, IN, CD, NNP, NNS, IN, ...   \n",
       "74188  [IN, DT, NN, ,, DT, NN, IN, CD, NNP, NNS, IN, ...   \n",
       "74189  [IN, DT, NN, ,, DT, NN, IN, CD, NNP, NNS, IN, ...   \n",
       "\n",
       "                                               dep_label   label  \\\n",
       "9      [ROOT, punct, appos, prep, pobj, nsubj, relcl,...  NotRel   \n",
       "10     [ROOT, punct, appos, prep, pobj, nsubj, relcl,...  NotRel   \n",
       "13     [ROOT, punct, appos, prep, pobj, nsubj, relcl,...  NotRel   \n",
       "14     [ROOT, punct, appos, prep, pobj, nsubj, relcl,...  NotRel   \n",
       "17     [ROOT, punct, appos, prep, pobj, nsubj, relcl,...  NotRel   \n",
       "...                                                  ...     ...   \n",
       "74181  [prep, det, pobj, punct, det, nsubjpass, prep,...  NotRel   \n",
       "74184  [prep, det, pobj, punct, det, nsubjpass, prep,...  NotRel   \n",
       "74185  [prep, det, pobj, punct, det, nsubjpass, prep,...  NotRel   \n",
       "74188  [prep, det, pobj, punct, det, nsubjpass, prep,...  NotRel   \n",
       "74189  [prep, det, pobj, punct, det, nsubjpass, prep,...  NotRel   \n",
       "\n",
       "                                                ent_type Relation  \n",
       "9      [O, O, O, O, reason, O, O, O, O, O, O, O, O, O...      Rel  \n",
       "10     [O, O, O, O, reason, O, O, O, O, O, O, O, O, O...      Rel  \n",
       "13     [O, O, O, O, O, O, O, O, O, O, O, O, drug, O, ...      Rel  \n",
       "14     [O, O, O, O, reason, O, O, O, O, O, O, O, O, O...      Rel  \n",
       "17     [O, O, O, O, reason, O, O, O, O, O, O, O, O, O...      Rel  \n",
       "...                                                  ...      ...  \n",
       "74181  [O, O, O, O, O, O, O, O, O, O, O, O, O, O, O, ...      Rel  \n",
       "74184  [O, O, O, O, O, O, O, O, O, O, O, O, O, O, O, ...      Rel  \n",
       "74185  [O, O, O, O, O, O, O, O, O, O, O, O, O, O, O, ...      Rel  \n",
       "74188  [O, O, O, O, O, O, O, O, O, O, O, O, O, O, O, ...      Rel  \n",
       "74189  [O, O, O, O, O, O, O, O, O, O, O, O, O, O, O, ...      Rel  \n",
       "\n",
       "[15062 rows x 7 columns]"
      ]
     },
     "execution_count": 61,
     "metadata": {},
     "output_type": "execute_result"
    }
   ],
   "source": [
    "inf_df[inf_df['Relation']=='Rel']"
   ]
  },
  {
   "cell_type": "code",
   "execution_count": 75,
   "id": "aeaa8ef6-66d1-430a-bfe3-2e5b14856392",
   "metadata": {},
   "outputs": [
    {
     "data": {
      "text/plain": [
       "NotRel    932\n",
       "Rel       179\n",
       "Name: label, dtype: int64"
      ]
     },
     "execution_count": 75,
     "metadata": {},
     "output_type": "execute_result"
    }
   ],
   "source": [
    "train_df.label.value_counts()"
   ]
  },
  {
   "cell_type": "code",
   "execution_count": null,
   "id": "927faeed-4767-4489-b4c6-e61cb35532b9",
   "metadata": {},
   "outputs": [],
   "source": [
    "inf_df[['tokens', 'Relation']].to_csv('inf_model_roberta_best.csv')"
   ]
  },
  {
   "cell_type": "code",
   "execution_count": 76,
   "id": "62421754-9698-48c8-8768-177d31c17c53",
   "metadata": {},
   "outputs": [],
   "source": [
    "# inf_df= pd_read_csv('inf_model_roberta_best.csv')\n",
    "inf_df[200:250].to_csv('inf_model_rob_best_sample_50.csv', index = False)"
   ]
  }
 ],
 "metadata": {
  "instance_type": "ml.g4dn.xlarge",
  "kernelspec": {
   "display_name": "Python 3 (Data Science)",
   "language": "python",
   "name": "python3__SAGEMAKER_INTERNAL__arn:aws:sagemaker:us-east-1:081325390199:image/datascience-1.0"
  },
  "language_info": {
   "codemirror_mode": {
    "name": "ipython",
    "version": 3
   },
   "file_extension": ".py",
   "mimetype": "text/x-python",
   "name": "python",
   "nbconvert_exporter": "python",
   "pygments_lexer": "ipython3",
   "version": "3.7.10"
  }
 },
 "nbformat": 4,
 "nbformat_minor": 5
}
